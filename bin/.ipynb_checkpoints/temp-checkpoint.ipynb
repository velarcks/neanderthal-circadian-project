{
 "cells": [
  {
   "cell_type": "code",
   "execution_count": 646,
   "id": "cbc40b0c-bc44-42c3-aa0c-d46ad8235569",
   "metadata": {},
   "outputs": [],
   "source": [
    "BASE_URL = 'https://raw.githubusercontent.com/xzhang-popgen/maladapt/main/empirical_scores/'\n",
    "FILE_NAMES = '../data/maladapt_files.txt'"
   ]
  },
  {
   "cell_type": "code",
   "execution_count": 615,
   "id": "98008024-a6be-49b9-b579-b4e86f7edfcb",
   "metadata": {},
   "outputs": [],
   "source": [
    "import os\n",
    "import pandas"
   ]
  },
  {
   "cell_type": "code",
   "execution_count": 634,
   "id": "eb07bef4-cea2-4fc8-80d0-600d7758670d",
   "metadata": {},
   "outputs": [],
   "source": [
    "# OPEN POPULATION PREDICTIONS FILE NAMES\n",
    "files = [n.strip() for n in open(FILE_NAMES).readlines()]\n",
    "files = [n for n in files if n.startswith('nea')]"
   ]
  },
  {
   "cell_type": "code",
   "execution_count": 649,
   "id": "23c301e3-2d26-43fc-8e22-723fed7ee6e0",
   "metadata": {},
   "outputs": [],
   "source": [
    "# IMPORT INDIVIDUAL PREDICTIONS AND CONCATENATE\n",
    "df = pd.DataFrame()\n",
    "for file in files:\n",
    "    url = os.path.join(base_url,file)\n",
    "    f = pd.read_csv(url, sep=',')\n",
    "    df = pd.concat([df,f])"
   ]
  },
  {
   "cell_type": "code",
   "execution_count": null,
   "id": "c4d71209-bbc4-4b45-b68d-0e132b0c8cf9",
   "metadata": {},
   "outputs": [],
   "source": [
    "# CHANGE COLUMN DATA TYPES\n",
    "cols = df.columns.values.tolist()\n",
    "df[cols[:-1]] = df[cols[:-1]].astype('int')"
   ]
  },
  {
   "cell_type": "code",
   "execution_count": 653,
   "id": "aca8934d-42e1-4e8c-a9a2-1303c000ad38",
   "metadata": {},
   "outputs": [],
   "source": [
    "# ADD CHR STRING TO CHR COLUMN\n",
    "if not df[cols[0]].map(str).values[0].startswith('chr'):\n",
    "    df[cols[0]] = df[cols[0]].map(str).replace('^','chr',regex=True)\n",
    "#df.iloc[:,0] = df.iloc[:,0].replace('\\.0','',regex=True)"
   ]
  },
  {
   "cell_type": "code",
   "execution_count": 686,
   "id": "1205a041-3659-49b1-87be-a46b675f7381",
   "metadata": {},
   "outputs": [],
   "source": [
    "df = df.groupby(cols[:-1], as_index=False)[cols[-1]].max()"
   ]
  },
  {
   "cell_type": "code",
   "execution_count": null,
   "id": "8fc50e7a-2a62-4014-944d-af93d6f9abd7",
   "metadata": {},
   "outputs": [],
   "source": []
  },
  {
   "cell_type": "code",
   "execution_count": 692,
   "id": "7ff66c2c-f3e6-4e8d-ac79-13068ef7c571",
   "metadata": {},
   "outputs": [
    {
     "name": "stderr",
     "output_type": "stream",
     "text": [
      "usage: enrichment_ai.py [-h] [-o OUTPUT] predictions snps threshold iterations\n",
      "enrichment_ai.py: error: the following arguments are required: iterations\n"
     ]
    },
    {
     "data": {
      "text/plain": [
       "512"
      ]
     },
     "execution_count": 692,
     "metadata": {},
     "output_type": "execute_result"
    }
   ],
   "source": [
    "os.system(\"python ../statistics/enrichment_ai.py $df ../data/circadian_variants_introgressed.bed 0.9 5 -o ../data/enrichment_ai_genomatnn.txt\")\n"
   ]
  },
  {
   "cell_type": "code",
   "execution_count": null,
   "id": "13540571-92cb-4063-ab1b-4827f41ba2ea",
   "metadata": {},
   "outputs": [],
   "source": []
  },
  {
   "cell_type": "code",
   "execution_count": null,
   "id": "512d6034-cb48-4e71-92db-a9d12b6d0e13",
   "metadata": {},
   "outputs": [],
   "source": []
  },
  {
   "cell_type": "code",
   "execution_count": 694,
   "id": "a0d58b98-34ab-4785-8ed4-22fb809a2632",
   "metadata": {},
   "outputs": [],
   "source": [
    "import pandas as pd\n",
    "import os\n",
    "import numpy as np\n",
    "import pybedtools\n"
   ]
  },
  {
   "cell_type": "code",
   "execution_count": 729,
   "id": "84eb7750-a066-47be-a2bc-3da5d6bf1371",
   "metadata": {},
   "outputs": [],
   "source": [
    "#!/usr/bin/env python\n",
    "# enrichment_ai_maladapt.py\n",
    "\n",
    "\n",
    "BASE_URL = 'https://raw.githubusercontent.com/xzhang-popgen/maladapt/main/empirical_scores/'\n",
    "FILE_NAMES = '../data/maladapt_files.txt'\n",
    "\n",
    "\n",
    "\n",
    "def column_name_mapping(df):\n",
    "    mapping = {df.columns[0]: 'chr', \n",
    "               df.columns[1]: 'start', \n",
    "               df.columns[2]: 'end'}\n",
    "    df = df.rename(columns=mapping)\n",
    "    return df\n",
    "\n",
    "\n",
    "# OPEN POPULATION PREDICTIONS FILE NAMES\n",
    "files = [n.strip() for n in open(FILE_NAMES).readlines()]\n",
    "files = [n for n in files if n.startswith('nea')][:2]\n",
    "# IMPORT INDIVIDUAL PREDICTIONS AND CONCATENATE\n",
    "df = pd.DataFrame()\n",
    "for file in files:\n",
    "    url = os.path.join(BASE_URL,file)\n",
    "    f = pd.read_csv(url, sep=',')\n",
    "    df = pd.concat([df,f])\n",
    "# CHANGE COLUMN DATA TYPES\n",
    "cols = df.columns.values.tolist()\n",
    "df[cols[:-1]] = df[cols[:-1]].astype('int')\n",
    "# ADD CHR STRING\n",
    "if not df[cols[0]].map(str).values[0].startswith('chr'):\n",
    "    df[cols[0]] = df[cols[0]].map(str).replace('^','chr',regex=True)\n",
    "\n",
    "df = df.groupby(cols[:-1], as_index=False)[cols[-1]].max()\n",
    "\n"
   ]
  },
  {
   "cell_type": "code",
   "execution_count": null,
   "id": "f5ecba7f-31db-452a-a26d-d634eb607993",
   "metadata": {},
   "outputs": [],
   "source": []
  },
  {
   "cell_type": "code",
   "execution_count": null,
   "id": "d64d2dcc-2f87-4b34-99fe-c6edfe67c696",
   "metadata": {},
   "outputs": [],
   "source": []
  },
  {
   "cell_type": "code",
   "execution_count": null,
   "id": "e0e3f281-4bb6-40ed-ac83-7a351e64d938",
   "metadata": {},
   "outputs": [],
   "source": []
  },
  {
   "cell_type": "code",
   "execution_count": null,
   "id": "96bf2918-1b10-42c9-b649-4cdb17ecad62",
   "metadata": {},
   "outputs": [],
   "source": []
  },
  {
   "cell_type": "code",
   "execution_count": null,
   "id": "5d71d469-1929-465c-9348-b7801aa73e51",
   "metadata": {},
   "outputs": [],
   "source": []
  },
  {
   "cell_type": "code",
   "execution_count": null,
   "id": "7af1bf33-f2e2-46b3-84d6-d1bf5294b7b7",
   "metadata": {},
   "outputs": [],
   "source": []
  },
  {
   "cell_type": "code",
   "execution_count": null,
   "id": "3c84c533-f2a5-4dfb-8f24-4aa0130785f4",
   "metadata": {},
   "outputs": [],
   "source": []
  },
  {
   "cell_type": "code",
   "execution_count": null,
   "id": "6d47baae-09ba-43b1-b167-df71151dad96",
   "metadata": {},
   "outputs": [],
   "source": []
  },
  {
   "cell_type": "code",
   "execution_count": 127,
   "id": "b3b27a10-8258-4d05-b777-c5b23b4c58aa",
   "metadata": {},
   "outputs": [],
   "source": [
    "genes = genes.fillna('NaN')\n",
    "genes.to_csv('../data/candidate_circadian_genes.tsv', sep='\\t', index=False)"
   ]
  },
  {
   "cell_type": "code",
   "execution_count": null,
   "id": "69cb8969-94e2-4b2c-9300-3d0e450de8d6",
   "metadata": {},
   "outputs": [],
   "source": [
    "# SAVE\n",
    "df = df.fillna('NaN')\n",
    "df.to_csv(OUTPUT_DIR, index=False, sep='\\t')\n",
    "\n"
   ]
  },
  {
   "cell_type": "code",
   "execution_count": 35,
   "id": "0c4370f8-7246-47d8-b680-b7c55174666c",
   "metadata": {},
   "outputs": [],
   "source": [
    "with open(MCMAHON_DIR, 'w') as outfile:\n",
    "    outfile.write('\\n'.join(mcmahon))\n"
   ]
  }
 ],
 "metadata": {
  "kernelspec": {
   "display_name": "Python 3 (ipykernel)",
   "language": "python",
   "name": "python3"
  },
  "language_info": {
   "codemirror_mode": {
    "name": "ipython",
    "version": 3
   },
   "file_extension": ".py",
   "mimetype": "text/x-python",
   "name": "python",
   "nbconvert_exporter": "python",
   "pygments_lexer": "ipython3",
   "version": "3.9.13"
  }
 },
 "nbformat": 4,
 "nbformat_minor": 5
}

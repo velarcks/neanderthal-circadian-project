{
 "cells": [
  {
   "cell_type": "code",
   "execution_count": null,
   "id": "89d6b7fe-dfed-4958-b127-31bee866a343",
   "metadata": {},
   "outputs": [],
   "source": [
    "#plot_ai_hbars"
   ]
  },
  {
   "cell_type": "code",
   "execution_count": 1,
   "id": "6c0b60a8-fbcf-4502-93c0-df2578214e6f",
   "metadata": {},
   "outputs": [],
   "source": [
    "# importing packages\n",
    "import pandas as pd\n",
    "import matplotlib.pyplot as plt\n"
   ]
  },
  {
   "cell_type": "code",
   "execution_count": 2,
   "id": "b0a58432-a1fa-4711-be79-1b68ac76bd2f",
   "metadata": {},
   "outputs": [],
   "source": [
    "def generate_df(filename,out):\n",
    "    file = open(filename).readlines()[1:]\n",
    "    l = [n.strip().split(': ') for n in file]\n",
    "    obs=float(l[1][1])\n",
    "    exp=float(l[2][1])\n",
    "    size=int(l[0][1])\n",
    "    df = pd.DataFrame({'Set': ['AI','random'],\n",
    "                     'Circadian':[obs,exp],\n",
    "                     'Non-circadian':[size-obs,size-exp]})\n",
    "    plot_hbars(df,size-obs,size-exp,out)\n",
    "    \n",
    "    return df"
   ]
  },
  {
   "cell_type": "code",
   "execution_count": 20,
   "id": "5f754fd0-b6ac-4378-8fe5-f705cf2c0526",
   "metadata": {},
   "outputs": [],
   "source": [
    "def plot_hbars(df,a,b,out):\n",
    "    # plot a Stacked Bar Chart using matplotlib\n",
    "    df.plot(\n",
    "        x = 'Set',\n",
    "        kind = 'barh',\n",
    "        stacked = True,\n",
    "        color = ['skyblue','gray'],\n",
    "        title = '', \n",
    "        width = 0.5,\n",
    "        mark_right = True,\n",
    "        legend = False)\n",
    "    plt.xlabel('')\n",
    "    plt.ylabel('')\n",
    "    #plt.legend(bbox_to_anchor=(1.05, 1.2), loc='upper right', borderaxespad=0)\n",
    "    # AI\n",
    "    plt.text((4/1.5), 0, round(df.iloc[0,1],1), fontsize=8)\n",
    "    plt.text((a/1.02), 0, round(df.iloc[0,2],1), fontsize=8)\n",
    "    # Random\n",
    "    plt.text((2), 1, round(df.iloc[1,1],1), fontsize=8)\n",
    "    plt.text((b/1.02), 1, round(df.iloc[1,2],1), fontsize=8);\n",
    "    plt.savefig(out, dpi=300, bbox_inches='tight')\n"
   ]
  },
  {
   "cell_type": "code",
   "execution_count": 21,
   "id": "19d6f4a0-2126-4d1a-b137-b3bc33916cd1",
   "metadata": {
    "tags": []
   },
   "outputs": [
    {
     "data": {
      "text/html": [
       "<div>\n",
       "<style scoped>\n",
       "    .dataframe tbody tr th:only-of-type {\n",
       "        vertical-align: middle;\n",
       "    }\n",
       "\n",
       "    .dataframe tbody tr th {\n",
       "        vertical-align: top;\n",
       "    }\n",
       "\n",
       "    .dataframe thead th {\n",
       "        text-align: right;\n",
       "    }\n",
       "</style>\n",
       "<table border=\"1\" class=\"dataframe\">\n",
       "  <thead>\n",
       "    <tr style=\"text-align: right;\">\n",
       "      <th></th>\n",
       "      <th>Set</th>\n",
       "      <th>Circadian</th>\n",
       "      <th>Non-circadian</th>\n",
       "    </tr>\n",
       "  </thead>\n",
       "  <tbody>\n",
       "    <tr>\n",
       "      <th>0</th>\n",
       "      <td>AI</td>\n",
       "      <td>5.000</td>\n",
       "      <td>57.000</td>\n",
       "    </tr>\n",
       "    <tr>\n",
       "      <th>1</th>\n",
       "      <td>random</td>\n",
       "      <td>5.182</td>\n",
       "      <td>56.818</td>\n",
       "    </tr>\n",
       "  </tbody>\n",
       "</table>\n",
       "</div>"
      ],
      "text/plain": [
       "      Set  Circadian  Non-circadian\n",
       "0      AI      5.000         57.000\n",
       "1  random      5.182         56.818"
      ]
     },
     "execution_count": 21,
     "metadata": {},
     "output_type": "execute_result"
    },
    {
     "data": {
      "image/png": "[encoded data removed]",
      "text/plain": [
       "<Figure size 432x288 with 1 Axes>"
      ]
     },
     "metadata": {
      "needs_background": "light"
     },
     "output_type": "display_data"
    }
   ],
   "source": [
    "genomatnn = generate_df('../results/enrichment_ai_genomatnn.txt','plots/ai_genomatnn_hbar.pdf')\n",
    "genomatnn"
   ]
  },
  {
   "cell_type": "code",
   "execution_count": 22,
   "id": "83dc0468-812d-4c71-a09b-fbe3057296db",
   "metadata": {
    "tags": []
   },
   "outputs": [
    {
     "data": {
      "text/html": [
       "<div>\n",
       "<style scoped>\n",
       "    .dataframe tbody tr th:only-of-type {\n",
       "        vertical-align: middle;\n",
       "    }\n",
       "\n",
       "    .dataframe tbody tr th {\n",
       "        vertical-align: top;\n",
       "    }\n",
       "\n",
       "    .dataframe thead th {\n",
       "        text-align: right;\n",
       "    }\n",
       "</style>\n",
       "<table border=\"1\" class=\"dataframe\">\n",
       "  <thead>\n",
       "    <tr style=\"text-align: right;\">\n",
       "      <th></th>\n",
       "      <th>Set</th>\n",
       "      <th>Circadian</th>\n",
       "      <th>Non-circadian</th>\n",
       "    </tr>\n",
       "  </thead>\n",
       "  <tbody>\n",
       "    <tr>\n",
       "      <th>0</th>\n",
       "      <td>AI</td>\n",
       "      <td>21.000</td>\n",
       "      <td>406.000</td>\n",
       "    </tr>\n",
       "    <tr>\n",
       "      <th>1</th>\n",
       "      <td>random</td>\n",
       "      <td>27.937</td>\n",
       "      <td>399.063</td>\n",
       "    </tr>\n",
       "  </tbody>\n",
       "</table>\n",
       "</div>"
      ],
      "text/plain": [
       "      Set  Circadian  Non-circadian\n",
       "0      AI     21.000        406.000\n",
       "1  random     27.937        399.063"
      ]
     },
     "execution_count": 22,
     "metadata": {},
     "output_type": "execute_result"
    },
    {
     "data": {
      "image/png": "[encoded data removed]",
      "text/plain": [
       "<Figure size 432x288 with 1 Axes>"
      ]
     },
     "metadata": {
      "needs_background": "light"
     },
     "output_type": "display_data"
    }
   ],
   "source": [
    "maladapt = generate_df('../results/enrichment_ai_maladapt.txt','plots/ai_maladapt_hbar.pdf')\n",
    "maladapt"
   ]
  },
  {
   "cell_type": "code",
   "execution_count": null,
   "id": "5707f595-33ee-4b0b-9b51-1080173e1d58",
   "metadata": {},
   "outputs": [],
   "source": []
  },
  {
   "cell_type": "code",
   "execution_count": null,
   "id": "89493b62-e248-49bf-ae13-b16673bf9a94",
   "metadata": {},
   "outputs": [],
   "source": []
  },
  {
   "cell_type": "code",
   "execution_count": null,
   "id": "e6ef5c4b-a6fb-4008-83a6-47ea993188e2",
   "metadata": {},
   "outputs": [],
   "source": []
  },
  {
   "cell_type": "code",
   "execution_count": null,
   "id": "3c184c89-ad86-44c0-a510-70b9643b52c7",
   "metadata": {},
   "outputs": [],
   "source": []
  }
 ],
 "metadata": {
  "kernelspec": {
   "display_name": "Python 3 (ipykernel)",
   "language": "python",
   "name": "python3"
  },
  "language_info": {
   "codemirror_mode": {
    "name": "ipython",
    "version": 3
   },
   "file_extension": ".py",
   "mimetype": "text/x-python",
   "name": "python",
   "nbconvert_exporter": "python",
   "pygments_lexer": "ipython3",
   "version": "3.9.13"
  }
 },
 "nbformat": 4,
 "nbformat_minor": 5
}

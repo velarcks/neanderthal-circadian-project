{
 "cells": [
  {
   "cell_type": "code",
   "execution_count": null,
   "id": "f77491cd-d6bf-485b-9119-c862338deca1",
   "metadata": {},
   "outputs": [],
   "source": [
    "# ------------------------------------------------------------"
   ]
  },
  {
   "cell_type": "code",
   "execution_count": 2,
   "id": "950c7e93-c7ef-4409-a61f-0a46d6de13b9",
   "metadata": {},
   "outputs": [],
   "source": [
    "CHRONO = 'data/nealelab_1180.bed'\n",
    "CIRC_INTR = '../data/circadian_variants_introgressed.bed'\n"
   ]
  },
  {
   "cell_type": "code",
   "execution_count": 3,
   "id": "a5a3f261-1049-40d2-b66c-4270ffd88238",
   "metadata": {},
   "outputs": [],
   "source": [
    "import pandas as pd\n",
    "import numpy as np\n",
    "import math\n",
    "import seaborn as sns\n",
    "sns.set_style(\"whitegrid\")\n",
    "sns.set_context(\"poster\")\n",
    "import matplotlib.pylab as plt\n",
    "pd.set_option('display.max_rows', 600)\n"
   ]
  },
  {
   "cell_type": "code",
   "execution_count": 4,
   "id": "1948b912-5eaf-498f-8e0d-eea0e2d3e236",
   "metadata": {},
   "outputs": [],
   "source": [
    "def column_name_mapping(df):\n",
    "    mapping = {df.columns[0]: 'Chr', \n",
    "               df.columns[1]: 'Start', \n",
    "               df.columns[2]: 'End'}\n",
    "    df = df.rename(columns=mapping)\n",
    "    return df\n"
   ]
  },
  {
   "cell_type": "code",
   "execution_count": 5,
   "id": "f0dc258e-cfc8-4c8f-b8bb-74ffade41c70",
   "metadata": {},
   "outputs": [],
   "source": [
    "chronotype = pd.read_csv(CHRONO, sep='\\t')\n",
    "chronotype = column_name_mapping(chronotype)"
   ]
  },
  {
   "cell_type": "code",
   "execution_count": 6,
   "id": "1f84fdfe-827d-47a1-a15a-55c7d5c1ef61",
   "metadata": {},
   "outputs": [],
   "source": [
    "circadian_introgressed = pd.read_csv(CIRC_INTR, sep='\\t')\n",
    "circadian_introgressed = column_name_mapping(circadian_introgressed)"
   ]
  },
  {
   "cell_type": "code",
   "execution_count": 7,
   "id": "d8a6b683-19d9-40aa-b181-a6ae4671ff8a",
   "metadata": {},
   "outputs": [],
   "source": [
    "df_full = pd.merge(chronotype,circadian_introgressed,on=['Chr','Start','End'])"
   ]
  },
  {
   "cell_type": "code",
   "execution_count": 8,
   "id": "8d48c705-de0b-474e-b994-832ab8d13ce3",
   "metadata": {},
   "outputs": [],
   "source": [
    "df_full.sort_values(by='pval',inplace=True)\n",
    "df_full.reset_index(drop=True,inplace=True)"
   ]
  },
  {
   "cell_type": "code",
   "execution_count": 9,
   "id": "5bab5eba-1683-4e70-a917-6abf2c1ceca9",
   "metadata": {},
   "outputs": [
    {
     "data": {
      "text/html": [
       "<div>\n",
       "<style scoped>\n",
       "    .dataframe tbody tr th:only-of-type {\n",
       "        vertical-align: middle;\n",
       "    }\n",
       "\n",
       "    .dataframe tbody tr th {\n",
       "        vertical-align: top;\n",
       "    }\n",
       "\n",
       "    .dataframe thead th {\n",
       "        text-align: right;\n",
       "    }\n",
       "</style>\n",
       "<table border=\"1\" class=\"dataframe\">\n",
       "  <thead>\n",
       "    <tr style=\"text-align: right;\">\n",
       "      <th></th>\n",
       "      <th>Chr</th>\n",
       "      <th>Start</th>\n",
       "      <th>End</th>\n",
       "      <th>Ref/Alt</th>\n",
       "      <th>beta</th>\n",
       "      <th>pval</th>\n",
       "      <th>phenotype</th>\n",
       "      <th>ID</th>\n",
       "      <th>REF/ALT</th>\n",
       "      <th>GeneID</th>\n",
       "      <th>GeneName</th>\n",
       "      <th>Region</th>\n",
       "    </tr>\n",
       "  </thead>\n",
       "  <tbody>\n",
       "    <tr>\n",
       "      <th>0</th>\n",
       "      <td>chr2</td>\n",
       "      <td>239228511</td>\n",
       "      <td>239228512</td>\n",
       "      <td>C/T</td>\n",
       "      <td>0.040956</td>\n",
       "      <td>1.505220e-23</td>\n",
       "      <td>1180</td>\n",
       "      <td>rs57033609</td>\n",
       "      <td>C/T</td>\n",
       "      <td>ENSG00000132326</td>\n",
       "      <td>PER2</td>\n",
       "      <td>Regulatory</td>\n",
       "    </tr>\n",
       "    <tr>\n",
       "      <th>1</th>\n",
       "      <td>chr2</td>\n",
       "      <td>239279632</td>\n",
       "      <td>239279633</td>\n",
       "      <td>C/T</td>\n",
       "      <td>0.040792</td>\n",
       "      <td>1.735040e-23</td>\n",
       "      <td>1180</td>\n",
       "      <td>rs75921156</td>\n",
       "      <td>C/T</td>\n",
       "      <td>ENSG00000132326</td>\n",
       "      <td>PER2</td>\n",
       "      <td>Regulatory</td>\n",
       "    </tr>\n",
       "    <tr>\n",
       "      <th>2</th>\n",
       "      <td>chr2</td>\n",
       "      <td>239269278</td>\n",
       "      <td>239269279</td>\n",
       "      <td>C/G</td>\n",
       "      <td>0.040481</td>\n",
       "      <td>3.808180e-23</td>\n",
       "      <td>1180</td>\n",
       "      <td>rs112067424</td>\n",
       "      <td>C/G</td>\n",
       "      <td>ENSG00000132326</td>\n",
       "      <td>PER2</td>\n",
       "      <td>Regulatory</td>\n",
       "    </tr>\n",
       "    <tr>\n",
       "      <th>3</th>\n",
       "      <td>chr2</td>\n",
       "      <td>239335233</td>\n",
       "      <td>239335234</td>\n",
       "      <td>C/T</td>\n",
       "      <td>0.031857</td>\n",
       "      <td>6.091000e-20</td>\n",
       "      <td>1180</td>\n",
       "      <td>rs56396448</td>\n",
       "      <td>C/T</td>\n",
       "      <td>ENSG00000132326</td>\n",
       "      <td>PER2</td>\n",
       "      <td>Regulatory</td>\n",
       "    </tr>\n",
       "    <tr>\n",
       "      <th>4</th>\n",
       "      <td>chr2</td>\n",
       "      <td>239409000</td>\n",
       "      <td>239409001</td>\n",
       "      <td>C/T</td>\n",
       "      <td>0.028256</td>\n",
       "      <td>1.412260e-16</td>\n",
       "      <td>1180</td>\n",
       "      <td>rs72993065</td>\n",
       "      <td>C/T</td>\n",
       "      <td>ENSG00000132326</td>\n",
       "      <td>PER2</td>\n",
       "      <td>Regulatory</td>\n",
       "    </tr>\n",
       "  </tbody>\n",
       "</table>\n",
       "</div>"
      ],
      "text/plain": [
       "    Chr      Start        End Ref/Alt      beta          pval  phenotype  \\\n",
       "0  chr2  239228511  239228512     C/T  0.040956  1.505220e-23       1180   \n",
       "1  chr2  239279632  239279633     C/T  0.040792  1.735040e-23       1180   \n",
       "2  chr2  239269278  239269279     C/G  0.040481  3.808180e-23       1180   \n",
       "3  chr2  239335233  239335234     C/T  0.031857  6.091000e-20       1180   \n",
       "4  chr2  239409000  239409001     C/T  0.028256  1.412260e-16       1180   \n",
       "\n",
       "            ID REF/ALT           GeneID GeneName      Region  \n",
       "0   rs57033609     C/T  ENSG00000132326     PER2  Regulatory  \n",
       "1   rs75921156     C/T  ENSG00000132326     PER2  Regulatory  \n",
       "2  rs112067424     C/G  ENSG00000132326     PER2  Regulatory  \n",
       "3   rs56396448     C/T  ENSG00000132326     PER2  Regulatory  \n",
       "4   rs72993065     C/T  ENSG00000132326     PER2  Regulatory  "
      ]
     },
     "execution_count": 9,
     "metadata": {},
     "output_type": "execute_result"
    }
   ],
   "source": [
    "df_full.head()"
   ]
  },
  {
   "cell_type": "code",
   "execution_count": 10,
   "id": "75cf12f5-58f1-4f3e-bc45-598a71017b2f",
   "metadata": {},
   "outputs": [],
   "source": [
    "c=0\n",
    "l=[]\n",
    "for i in range(len(df_full)):\n",
    "    if df_full['beta'][i] >= 0:\n",
    "        c+=1\n",
    "    l.append([df_full['ID'][i],df_full['beta'][i],df_full['pval'][i],math.log10(df_full['pval'][i]),c/(i+1)])\n",
    "    #l.append([math.log10(df_short['pval'][i]),c/(i+1)])\n"
   ]
  },
  {
   "cell_type": "code",
   "execution_count": 11,
   "id": "ae9a5161-fd38-4984-ac98-06aa219ad214",
   "metadata": {},
   "outputs": [],
   "source": [
    "df_plot = pd.DataFrame(l,columns=['ID','Beta','P-Value','log10 P-Value','% Morningness'])"
   ]
  },
  {
   "cell_type": "code",
   "execution_count": 13,
   "id": "98823847-1bca-4eb9-9c5b-c73cc76e7c1e",
   "metadata": {},
   "outputs": [
    {
     "data": {
      "text/html": [
       "<div>\n",
       "<style scoped>\n",
       "    .dataframe tbody tr th:only-of-type {\n",
       "        vertical-align: middle;\n",
       "    }\n",
       "\n",
       "    .dataframe tbody tr th {\n",
       "        vertical-align: top;\n",
       "    }\n",
       "\n",
       "    .dataframe thead th {\n",
       "        text-align: right;\n",
       "    }\n",
       "</style>\n",
       "<table border=\"1\" class=\"dataframe\">\n",
       "  <thead>\n",
       "    <tr style=\"text-align: right;\">\n",
       "      <th></th>\n",
       "      <th>ID</th>\n",
       "      <th>Beta</th>\n",
       "      <th>P-Value</th>\n",
       "      <th>log10 P-Value</th>\n",
       "      <th>% Morningness</th>\n",
       "    </tr>\n",
       "  </thead>\n",
       "  <tbody>\n",
       "    <tr>\n",
       "      <th>0</th>\n",
       "      <td>rs57033609</td>\n",
       "      <td>0.040956</td>\n",
       "      <td>1.505220e-23</td>\n",
       "      <td>-22.822400</td>\n",
       "      <td>1.0</td>\n",
       "    </tr>\n",
       "    <tr>\n",
       "      <th>1</th>\n",
       "      <td>rs75921156</td>\n",
       "      <td>0.040792</td>\n",
       "      <td>1.735040e-23</td>\n",
       "      <td>-22.760691</td>\n",
       "      <td>1.0</td>\n",
       "    </tr>\n",
       "    <tr>\n",
       "      <th>2</th>\n",
       "      <td>rs112067424</td>\n",
       "      <td>0.040481</td>\n",
       "      <td>3.808180e-23</td>\n",
       "      <td>-22.419283</td>\n",
       "      <td>1.0</td>\n",
       "    </tr>\n",
       "    <tr>\n",
       "      <th>3</th>\n",
       "      <td>rs56396448</td>\n",
       "      <td>0.031857</td>\n",
       "      <td>6.091000e-20</td>\n",
       "      <td>-19.215311</td>\n",
       "      <td>1.0</td>\n",
       "    </tr>\n",
       "    <tr>\n",
       "      <th>4</th>\n",
       "      <td>rs72993065</td>\n",
       "      <td>0.028256</td>\n",
       "      <td>1.412260e-16</td>\n",
       "      <td>-15.850085</td>\n",
       "      <td>1.0</td>\n",
       "    </tr>\n",
       "  </tbody>\n",
       "</table>\n",
       "</div>"
      ],
      "text/plain": [
       "            ID      Beta       P-Value  log10 P-Value  % Morningness\n",
       "0   rs57033609  0.040956  1.505220e-23     -22.822400            1.0\n",
       "1   rs75921156  0.040792  1.735040e-23     -22.760691            1.0\n",
       "2  rs112067424  0.040481  3.808180e-23     -22.419283            1.0\n",
       "3   rs56396448  0.031857  6.091000e-20     -19.215311            1.0\n",
       "4   rs72993065  0.028256  1.412260e-16     -15.850085            1.0"
      ]
     },
     "execution_count": 13,
     "metadata": {},
     "output_type": "execute_result"
    }
   ],
   "source": [
    "df_plot.head()"
   ]
  },
  {
   "cell_type": "code",
   "execution_count": 14,
   "id": "31d02020-282f-4748-9a56-fa657fda2e42",
   "metadata": {},
   "outputs": [],
   "source": [
    "# SAVE\n",
    "#df_plot.to_csv('data/plotting_ukbb_morningness_direction_of_effect_circadian.txt',\n",
    "#                           sep='\\t', index=False)"
   ]
  },
  {
   "cell_type": "code",
   "execution_count": null,
   "id": "70a214e7-65ab-44eb-a003-d5cac77eb49d",
   "metadata": {},
   "outputs": [],
   "source": []
  },
  {
   "cell_type": "code",
   "execution_count": null,
   "id": "9aae647f-c4aa-48a5-a880-2b47b409f3fb",
   "metadata": {},
   "outputs": [],
   "source": []
  },
  {
   "cell_type": "code",
   "execution_count": null,
   "id": "7a029d7a-f920-4a65-aed3-0dada0ccb484",
   "metadata": {},
   "outputs": [],
   "source": [
    "# -----------------------------------------------------------------------\n",
    "# PREPARE INPUT DATA FOR CLUMPING IN PLINK\n",
    "# Create input file containing columns: SNP|PVAL\n",
    "# Download MAGMA CEU: wget https://ctg.cncr.nl/software/MAGMA/ref_data/g1000_eur.zip\n",
    "# plink --bfile g1000_eur --clump /dors/capra_lab/users/velazqks/projects/neanderthal_circadian/notebooks/data/input_clump_ukbb_gwas_1180_circadian.txt --clump-r2 0.90 --clump-field P --clump-p1 1 --out ukbb_morningness_introgressed_circadian_direction_of_effect\n",
    "# cp plink.clumped /dors/capra_lab/users/velazqks/projects/neanderthal_circadian/notebooks/data/\n"
   ]
  },
  {
   "cell_type": "code",
   "execution_count": 26,
   "id": "c46b4a0b-18b0-48bb-a3fd-d80d99bddafa",
   "metadata": {},
   "outputs": [],
   "source": [
    "to_clump_1180 = df_full[['RSID','pval']].copy()\n",
    "to_clump_1180.rename(columns={'RSID':'SNP','pval':'P'},inplace=True)"
   ]
  },
  {
   "cell_type": "code",
   "execution_count": 27,
   "id": "b69964a8-bb57-4087-8e70-82c8a6777d76",
   "metadata": {},
   "outputs": [],
   "source": [
    "to_clump_1180 = to_clump_1180[to_clump_1180['SNP'].str.startswith('rs')]"
   ]
  },
  {
   "cell_type": "code",
   "execution_count": 28,
   "id": "99815d2a-f1e9-4439-981f-eb10a79a5128",
   "metadata": {},
   "outputs": [],
   "source": [
    "# SAVE\n",
    "#to_clump_1180.to_csv('data/input_clump_ukbb_gwas_1180_circadian.txt',sep='\\t', index=False)"
   ]
  },
  {
   "cell_type": "code",
   "execution_count": null,
   "id": "ae3287ac-fffb-4bac-9561-f7d429ee536b",
   "metadata": {},
   "outputs": [],
   "source": []
  },
  {
   "cell_type": "code",
   "execution_count": null,
   "id": "aa60d620-4e38-4681-b7f6-8e9623cb9af8",
   "metadata": {},
   "outputs": [],
   "source": []
  },
  {
   "cell_type": "code",
   "execution_count": null,
   "id": "e33c1ef6-c1bf-4f0c-b1ab-36463a295b07",
   "metadata": {},
   "outputs": [],
   "source": [
    "# ---------------------------------------------------\n",
    "# WRANGLE PLINK CLUMPED FILE"
   ]
  },
  {
   "cell_type": "code",
   "execution_count": 15,
   "id": "013be1a3-0903-4355-a43b-719a0de6df11",
   "metadata": {},
   "outputs": [],
   "source": [
    "# Open clumped file\n",
    "f = open('data/ukbb_morningness_introgressed_circadian_direction_of_effect.clumped').readlines()\n",
    "fl = [line.split() for line in f]\n",
    "df_clumped = pd.DataFrame(fl[1:], columns=fl[0:1][0])\n",
    "df_clumped.dropna(inplace=True)\n",
    "#df_clumped.columns = fl[0:1][0]\n",
    "df_clumped['BP'] = df_clumped['BP'].map(int)\n",
    "\n",
    "df_clumped['START'] = df_clumped['BP'].map(int) - 1\n",
    "df_clumped = df_clumped[['CHR','START','BP','SNP','TOTAL','SP2']]\n",
    "df_clumped['CHR'] = df_clumped['CHR'].replace('^', 'chr', regex=True)\n",
    "\n",
    "df_clumped.rename(columns={'SNP':'RSID'}, inplace=True)"
   ]
  },
  {
   "cell_type": "code",
   "execution_count": 19,
   "id": "980b7a82-04c8-413b-8a7c-d59dd880ca1b",
   "metadata": {},
   "outputs": [
    {
     "data": {
      "text/html": [
       "<div>\n",
       "<style scoped>\n",
       "    .dataframe tbody tr th:only-of-type {\n",
       "        vertical-align: middle;\n",
       "    }\n",
       "\n",
       "    .dataframe tbody tr th {\n",
       "        vertical-align: top;\n",
       "    }\n",
       "\n",
       "    .dataframe thead th {\n",
       "        text-align: right;\n",
       "    }\n",
       "</style>\n",
       "<table border=\"1\" class=\"dataframe\">\n",
       "  <thead>\n",
       "    <tr style=\"text-align: right;\">\n",
       "      <th></th>\n",
       "      <th>CHR</th>\n",
       "      <th>START</th>\n",
       "      <th>BP</th>\n",
       "      <th>RSID</th>\n",
       "      <th>TOTAL</th>\n",
       "      <th>SP2</th>\n",
       "    </tr>\n",
       "  </thead>\n",
       "  <tbody>\n",
       "    <tr>\n",
       "      <th>0</th>\n",
       "      <td>chr2</td>\n",
       "      <td>239228511</td>\n",
       "      <td>239228512</td>\n",
       "      <td>rs57033609</td>\n",
       "      <td>2</td>\n",
       "      <td>rs112067424(1),rs75921156(1)</td>\n",
       "    </tr>\n",
       "    <tr>\n",
       "      <th>1</th>\n",
       "      <td>chr2</td>\n",
       "      <td>239335233</td>\n",
       "      <td>239335234</td>\n",
       "      <td>rs56396448</td>\n",
       "      <td>0</td>\n",
       "      <td>NONE</td>\n",
       "    </tr>\n",
       "    <tr>\n",
       "      <th>2</th>\n",
       "      <td>chr2</td>\n",
       "      <td>239409000</td>\n",
       "      <td>239409001</td>\n",
       "      <td>rs72993065</td>\n",
       "      <td>2</td>\n",
       "      <td>rs1123472(1),rs72994970(1)</td>\n",
       "    </tr>\n",
       "    <tr>\n",
       "      <th>3</th>\n",
       "      <td>chr2</td>\n",
       "      <td>239149569</td>\n",
       "      <td>239149570</td>\n",
       "      <td>rs960783</td>\n",
       "      <td>1</td>\n",
       "      <td>rs35333999(1)</td>\n",
       "    </tr>\n",
       "    <tr>\n",
       "      <th>4</th>\n",
       "      <td>chr2</td>\n",
       "      <td>239187208</td>\n",
       "      <td>239187209</td>\n",
       "      <td>rs74508725</td>\n",
       "      <td>3</td>\n",
       "      <td>rs74508725(1),rs75316580(1),rs75316580(1)</td>\n",
       "    </tr>\n",
       "  </tbody>\n",
       "</table>\n",
       "</div>"
      ],
      "text/plain": [
       "    CHR      START         BP        RSID TOTAL  \\\n",
       "0  chr2  239228511  239228512  rs57033609     2   \n",
       "1  chr2  239335233  239335234  rs56396448     0   \n",
       "2  chr2  239409000  239409001  rs72993065     2   \n",
       "3  chr2  239149569  239149570    rs960783     1   \n",
       "4  chr2  239187208  239187209  rs74508725     3   \n",
       "\n",
       "                                         SP2  \n",
       "0               rs112067424(1),rs75921156(1)  \n",
       "1                                       NONE  \n",
       "2                 rs1123472(1),rs72994970(1)  \n",
       "3                              rs35333999(1)  \n",
       "4  rs74508725(1),rs75316580(1),rs75316580(1)  "
      ]
     },
     "execution_count": 19,
     "metadata": {},
     "output_type": "execute_result"
    }
   ],
   "source": [
    "df_clumped.head()"
   ]
  },
  {
   "cell_type": "code",
   "execution_count": 20,
   "id": "9b1ff451-c354-46c5-ab5d-c45f94149771",
   "metadata": {},
   "outputs": [],
   "source": [
    "# GET BETA AND PVAL COLUMNS\n",
    "df_clump_merge = pd.merge(df_clumped,df_full,left_on='RSID',right_on='ID')"
   ]
  },
  {
   "cell_type": "code",
   "execution_count": 21,
   "id": "4074764d-83b5-4d8a-b377-47703c7f88b0",
   "metadata": {},
   "outputs": [],
   "source": [
    "# GENERATE CUMULATIVE MORNINGNESS PERCENTAGE AND LOG10 PVALUE\n",
    "c=0\n",
    "l=[]\n",
    "for i in range(len(df_clump_merge)):\n",
    "    if df_clump_merge['beta'][i] >= 0:\n",
    "        c+=1\n",
    "    l.append([df_clump_merge['RSID'][i],df_clump_merge['beta'][i],(df_clump_merge['pval'][i]),math.log10(df_clump_merge['pval'][i]),c/(i+1)])\n",
    "    #l.append([math.log10(df_short['pval'][i]),c/(i+1)])\n",
    "    \n",
    "clump_plot = pd.DataFrame(l,columns=['RSID','Beta','P-Value','log10 P-Value','% Morningness'])\n"
   ]
  },
  {
   "cell_type": "code",
   "execution_count": 23,
   "id": "6d8e289c-0fc4-4819-90e5-83cade10a6d3",
   "metadata": {},
   "outputs": [],
   "source": [
    "# SAVE\n",
    "#clump_plot.to_csv('data/plotting_ukbb_morningness_introgressed_circadian_direction_of_effect_clump.txt',\n",
    "#               sep='\\t', index=False)"
   ]
  },
  {
   "cell_type": "code",
   "execution_count": null,
   "id": "49c1238c-b3b0-4b76-867c-7429bc4523fa",
   "metadata": {},
   "outputs": [],
   "source": []
  },
  {
   "cell_type": "code",
   "execution_count": null,
   "id": "292b74ac-2515-452e-a383-bb9bb5db62bf",
   "metadata": {},
   "outputs": [],
   "source": []
  }
 ],
 "metadata": {
  "kernelspec": {
   "display_name": "Python (ksva)",
   "language": "python",
   "name": "ksva"
  },
  "language_info": {
   "codemirror_mode": {
    "name": "ipython",
    "version": 3
   },
   "file_extension": ".py",
   "mimetype": "text/x-python",
   "name": "python",
   "nbconvert_exporter": "python",
   "pygments_lexer": "ipython3",
   "version": "3.6.11"
  }
 },
 "nbformat": 4,
 "nbformat_minor": 5
}

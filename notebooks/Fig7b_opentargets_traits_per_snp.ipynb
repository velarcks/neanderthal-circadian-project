{
 "cells": [
  {
   "cell_type": "markdown",
   "id": "ea7b96f7-5aee-49fc-9b45-0c9be03ded8c",
   "metadata": {},
   "source": [
    "**Figure 7**, panel B<br>\n",
    "Plot the counts of genome-wide association traits per SNP in a set of introgressed circadian and introgressed non-circadian variants. The traits were scraped from Open Targets Genetics."
   ]
  },
  {
   "cell_type": "code",
   "execution_count": null,
   "id": "90d3bd6f-ef10-4da8-9992-0d7c3e0a7dee",
   "metadata": {},
   "outputs": [],
   "source": [
    "# ---------------------------------------------------------------"
   ]
  },
  {
   "cell_type": "code",
   "execution_count": 1,
   "id": "bf1b37ca-0293-48c9-a800-71887ce3e133",
   "metadata": {},
   "outputs": [],
   "source": [
    "OPENTARGETS_I = 'data/opentargets_hg19_f.bed.gz'\n",
    "CIRCADIAN_SNPS = '../data/circadian_variants_introgressed.bed'"
   ]
  },
  {
   "cell_type": "code",
   "execution_count": 14,
   "id": "40d53f40-afad-4156-a62a-ad8e32f69d0e",
   "metadata": {},
   "outputs": [],
   "source": [
    "import pandas as pd\n",
    "import numpy as np\n",
    "import math\n",
    "import statistics\n",
    "from scipy.stats import mannwhitneyu\n",
    "from scipy.stats import ks_2samp\n",
    "import matplotlib.pylab as plt\n",
    "import seaborn as sns"
   ]
  },
  {
   "cell_type": "code",
   "execution_count": 4,
   "id": "c810d89b-974f-4adf-8b14-eccd9562068d",
   "metadata": {},
   "outputs": [],
   "source": [
    "def df_wrangle(df,col1,col2,p_col,pval):\n",
    "    # FILTER DF BY PVALUE: THRESHOLD 0.000005\n",
    "    df = df[df[p_col]<=pval]\n",
    "\n",
    "    # CREATE LIST OF COUNTS OF SNPS PER TRAIT\n",
    "    df_counts = df[[col1,col2]].sort_values(\n",
    "        by=col2).drop_duplicates()[[col2]].value_counts()\n",
    "    df_counts = pd.DataFrame(df_counts)\n",
    "    df_counts.rename(columns={0:'Number of Variants'},\n",
    "                                inplace=True)\n",
    "    # CRREATE BINS \n",
    "    df_counts['bins'] = pd.cut(df_counts['Number of Variants'], \n",
    "                                100, precision=3, include_lowest=False)\n",
    "    \n",
    "    # NEW DF TO BE ABLE TO ADD \n",
    "    to_merge = pd.DataFrame(df_counts['bins'].value_counts()).reset_index()\n",
    "    to_merge.rename(columns={'bins':'Number of GWAS Traits','index':'bins'},inplace=True)\n",
    "\n",
    "    merged = pd.merge(df_counts.reset_index(),to_merge,on='bins')\n",
    "    \n",
    "    # Create counts of variants in each bin\n",
    "    merge_count = merged[['Number of Variants']].value_counts(ascending=True)\n",
    "    merge_count = pd.DataFrame(merge_count).reset_index()\n",
    "    merge_count.rename(columns={0:'Number of GWAS Traits'},inplace=True)\n",
    "    merge_count = merge_count.sort_values(by='Number of Variants', ascending=False).groupby('Number of GWAS Traits').sum().reset_index()\n",
    "\n",
    "    return merged,merge_count"
   ]
  },
  {
   "cell_type": "code",
   "execution_count": 10,
   "id": "a5e31dc7-8d40-43ea-b381-5fa7469c9840",
   "metadata": {},
   "outputs": [],
   "source": [
    "def traits_per_snp(assoc,pval,pheno):\n",
    "    bonferroni = 0.00000005\n",
    "    print('P threshold: {}'.format(bonferroni))\n",
    "    assoc = assoc[assoc[pval]<=bonferroni].drop_duplicates()\n",
    "    assoc.drop(pval,axis=1,inplace=True)\n",
    "    assoc = assoc.drop_duplicates()\n",
    "    \n",
    "    assoc_nc = assoc[~assoc['POS'].isin(circadian_i['POS'])]\n",
    "    assoc_c = assoc[assoc['POS'].isin(circadian_i['POS'])]\n",
    "    \n",
    "    b = assoc_nc.value_counts('POS').reset_index()\n",
    "    a = assoc_c.value_counts('POS').reset_index()\n",
    "    \n",
    "    b['Set'] = 'Non-Circadian'\n",
    "    a['Set'] = 'Circadian'\n",
    "\n",
    "    df = pd.concat([a,b])\n",
    "    \n",
    "    U1, p = mannwhitneyu(a[0],b[0])\n",
    "    print('Mann-Whitney U: {}, P: {}'.format(U1,p))\n",
    "    print(ks_2samp(a[0], b[0]))\n",
    "    \n",
    "    df.rename(columns={0:'TraitCounts'}, inplace=True)\n",
    "    \n",
    "    return df\n"
   ]
  },
  {
   "cell_type": "code",
   "execution_count": 4,
   "id": "8398d5d0-8791-4ade-985e-e62573404b7c",
   "metadata": {},
   "outputs": [],
   "source": [
    "# PLOT\n",
    "def lineplot(df):\n",
    "    sns.lineplot(x='Number of GWAS Traits',y='Number of Variants',\n",
    "                 data=df,marker='o',markersize=8,ci= None)\n",
    "    plt.xlabel(\"Number of GWAS Traits\")\n",
    "    plt.ylabel(\"Number of variants\")\n",
    "    #xtickformat('$%,.0f')\n"
   ]
  },
  {
   "cell_type": "code",
   "execution_count": 20,
   "id": "01a7d790-8db1-4dd3-acf2-32b9e3cf685c",
   "metadata": {},
   "outputs": [],
   "source": [
    "def plot_boxplot(df,y,title):\n",
    "    sns.set(rc = {'figure.figsize':(10,10)})\n",
    "    sns.set_style(\"whitegrid\")\n",
    "    sns.set_context(\"poster\")\n",
    "\n",
    "    sns.boxplot(x='Set',y=y, showfliers=False,\n",
    "                     data=df)\n",
    "    plt.ylabel('Phenotypes per variant')\n",
    "    plt.xlabel('')\n",
    "    plt.title('')\n",
    "    #plt.savefig('plots/opentargets_traits_per_snp.pdf', dpi=300)\n"
   ]
  },
  {
   "cell_type": "code",
   "execution_count": 6,
   "id": "44ce19e1-4cdd-49ea-9872-1c7e8a471e84",
   "metadata": {},
   "outputs": [],
   "source": [
    "# LOAD DATA\n",
    "opentargets = pd.read_csv(OPENTARGETS_I, sep='\\t', compression='gzip')\n",
    "\n",
    "circadian_i = pd.read_csv(CIRCADIAN_SNPS, \n",
    "                          sep='\\t').iloc[:,:3].drop_duplicates()\n",
    "circadian_i['POS'] = circadian_i['Chr'] + '_' + circadian_i['End'].astype(str)"
   ]
  },
  {
   "cell_type": "code",
   "execution_count": 7,
   "id": "d7f88698-aae2-44d7-aeb3-af129ba0ffdb",
   "metadata": {
    "tags": []
   },
   "outputs": [],
   "source": [
    "# PLOT DISTRIBUTION OF TRAITS PER VARIANT IN CIRCADIAN AND NON-CIRCADIAN VARIANTS"
   ]
  },
  {
   "cell_type": "code",
   "execution_count": 11,
   "id": "b545f6e3-44e6-4d81-a56d-5a0f810677fc",
   "metadata": {},
   "outputs": [
    {
     "name": "stdout",
     "output_type": "stream",
     "text": [
      "P threshold: 5e-08\n",
      "Mann-Whitney U: 42131153.0, P: 0.010800133202747692\n",
      "KstestResult(statistic=0.07214431073656435, pvalue=1.7501180070090544e-07)\n"
     ]
    }
   ],
   "source": [
    "to_plot = traits_per_snp(opentargets[['POS','traitReported','pval']].drop_duplicates(),\n",
    "                         'pval',\n",
    "                         'traitReported')"
   ]
  },
  {
   "cell_type": "code",
   "execution_count": 21,
   "id": "ee14efbf-c56b-4a38-a39f-e72fd75a1247",
   "metadata": {},
   "outputs": [
    {
     "data": {
      "image/png": "[encoded data removed]",
      "text/plain": [
       "<Figure size 720x720 with 1 Axes>"
      ]
     },
     "metadata": {},
     "output_type": "display_data"
    }
   ],
   "source": [
    "plot_boxplot(to_plot,'TraitCounts','Opentargets')"
   ]
  },
  {
   "cell_type": "code",
   "execution_count": 23,
   "id": "05a2976d-2dc5-4037-b8af-0c42c00d9018",
   "metadata": {},
   "outputs": [
    {
     "data": {
      "image/png": "[encoded data removed]",
      "text/plain": [
       "<Figure size 360x360 with 1 Axes>"
      ]
     },
     "metadata": {},
     "output_type": "display_data"
    }
   ],
   "source": [
    "ax = to_plot.boxplot(column='TraitCounts', by='Set',showfliers = False,\n",
    "                   figsize=(5, 5), grid=False)\n",
    "\n",
    "ax.set_ylabel(\"Phenotypes per variant\")\n",
    "ax.set_xlabel('')\n",
    "\n",
    "plt.title('');\n",
    "plt.suptitle('');"
   ]
  },
  {
   "cell_type": "code",
   "execution_count": 31,
   "id": "3149efb3-7ffd-4d72-a55e-250a88beb930",
   "metadata": {},
   "outputs": [],
   "source": [
    "# ---------------------------------------------------------------"
   ]
  },
  {
   "cell_type": "code",
   "execution_count": 19,
   "id": "fc914aa8-c111-4e0f-ab5b-e6b596e5feb8",
   "metadata": {},
   "outputs": [],
   "source": [
    "# SAVE\n",
    "#to_plot.sort_values(by=0,ascending=False,inplace=True)\n",
    "#to_plot.to_csv('data/opentargets_traits_per_snp.tab', sep='\\t', index=False)"
   ]
  },
  {
   "cell_type": "code",
   "execution_count": null,
   "id": "32206a2d-7913-4323-8fdc-6e88c0a1beaa",
   "metadata": {},
   "outputs": [],
   "source": []
  },
  {
   "cell_type": "code",
   "execution_count": null,
   "id": "167a16a2-2cab-4e9b-850f-2c5429e2e57f",
   "metadata": {},
   "outputs": [],
   "source": []
  },
  {
   "cell_type": "code",
   "execution_count": null,
   "id": "d0622cf3-42eb-43da-b748-b17b693fcee3",
   "metadata": {},
   "outputs": [],
   "source": []
  },
  {
   "cell_type": "code",
   "execution_count": null,
   "id": "ef22bd9a-2059-4dbe-9854-ee62bec03103",
   "metadata": {},
   "outputs": [],
   "source": []
  }
 ],
 "metadata": {
  "kernelspec": {
   "display_name": "Python 3 (ipykernel)",
   "language": "python",
   "name": "python3"
  },
  "language_info": {
   "codemirror_mode": {
    "name": "ipython",
    "version": 3
   },
   "file_extension": ".py",
   "mimetype": "text/x-python",
   "name": "python",
   "nbconvert_exporter": "python",
   "pygments_lexer": "ipython3",
   "version": "3.9.13"
  }
 },
 "nbformat": 4,
 "nbformat_minor": 5
}

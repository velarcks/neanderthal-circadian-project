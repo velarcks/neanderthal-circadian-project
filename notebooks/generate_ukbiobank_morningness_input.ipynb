{
 "cells": [
  {
   "cell_type": "code",
   "execution_count": null,
   "id": "b67ac939-0657-40ce-aa32-4ab437d213ba",
   "metadata": {},
   "outputs": [],
   "source": [
    "# ------------------------------------------------------------"
   ]
  },
  {
   "cell_type": "code",
   "execution_count": null,
   "id": "ad6799ca-7859-4100-8520-9883f99bc581",
   "metadata": {},
   "outputs": [],
   "source": [
    "# Generate list of UKBiobank GWAS Morning/Evening person (1180) associations\n",
    "# cut -f1-4,8,11,12 ukbiobank_gwas_round2_signif.tsv | { head -1; grep -w 1180$; } > nealelab_1180.bed &\n",
    "# Takes ~30 minutes"
   ]
  },
  {
   "cell_type": "code",
   "execution_count": 1,
   "id": "2cd1e53f-61ba-4e8e-a41d-557ab9d52765",
   "metadata": {},
   "outputs": [],
   "source": [
    "MORNINGNESS_FILE = 'data/nealelab_1180.bed'\n",
    "BROWNING_FILE = '/dors/capra_lab/data/ancient_dna/archaic_hominin/browning18/introgressed_variants/introgressed_variants_browning18_hg19.bed'\n"
   ]
  },
  {
   "cell_type": "code",
   "execution_count": 2,
   "id": "eeb8f0ce-de51-418e-be5e-0df8047923df",
   "metadata": {},
   "outputs": [],
   "source": [
    "import pandas as pd\n",
    "import numpy as np\n",
    "import math\n",
    "import matplotlib.pylab as plt\n",
    "pd.set_option('display.max_rows', 600)\n",
    "import seaborn as sns\n",
    "sns.set_style(\"whitegrid\")\n",
    "sns.set_context(\"poster\")\n"
   ]
  },
  {
   "cell_type": "code",
   "execution_count": 3,
   "id": "7c582b67-99cf-4da3-9730-664ab99bf172",
   "metadata": {},
   "outputs": [],
   "source": [
    "def column_name_mapping(df):\n",
    "    mapping = {df.columns[0]: 'Chr', \n",
    "               df.columns[1]: 'Start', \n",
    "               df.columns[2]: 'End'}\n",
    "    df = df.rename(columns=mapping)\n",
    "    return df\n"
   ]
  },
  {
   "cell_type": "code",
   "execution_count": 23,
   "id": "ee5dcfb6-d64d-4100-a866-bebe6efbc2a8",
   "metadata": {},
   "outputs": [],
   "source": [
    "# LOAD FILES\n",
    "\n",
    "chronotype = pd.read_csv(MORNINGNESS_FILE, sep='\\t')\n",
    "chronotype = column_name_mapping(chronotype)\n",
    "\n",
    "introgressed = pd.read_csv(BROWNING_FILE, sep='\\t').iloc[:,[0,1,2,3]]\n",
    "introgressed = column_name_mapping(introgressed)\n"
   ]
  },
  {
   "cell_type": "code",
   "execution_count": 6,
   "id": "bd7f17b5-9199-4fbd-9d65-edc55c26a37f",
   "metadata": {},
   "outputs": [],
   "source": [
    "# Merge dataframes and sort by pvalue\n",
    "df_full = pd.merge(chronotype,introgressed,on=['Chr','Start','End'])\n",
    "df_full.sort_values(by='pval',inplace=True,ascending=True)\n"
   ]
  },
  {
   "cell_type": "code",
   "execution_count": 7,
   "id": "0cb0a4a2-2750-4d09-aed2-e1a8b9e462e9",
   "metadata": {},
   "outputs": [
    {
     "data": {
      "text/html": [
       "<div>\n",
       "<style scoped>\n",
       "    .dataframe tbody tr th:only-of-type {\n",
       "        vertical-align: middle;\n",
       "    }\n",
       "\n",
       "    .dataframe tbody tr th {\n",
       "        vertical-align: top;\n",
       "    }\n",
       "\n",
       "    .dataframe thead th {\n",
       "        text-align: right;\n",
       "    }\n",
       "</style>\n",
       "<table border=\"1\" class=\"dataframe\">\n",
       "  <thead>\n",
       "    <tr style=\"text-align: right;\">\n",
       "      <th></th>\n",
       "      <th>Chr</th>\n",
       "      <th>Start</th>\n",
       "      <th>End</th>\n",
       "      <th>Ref/Alt</th>\n",
       "      <th>beta</th>\n",
       "      <th>pval</th>\n",
       "      <th>phenotype</th>\n",
       "      <th>ID</th>\n",
       "    </tr>\n",
       "  </thead>\n",
       "  <tbody>\n",
       "    <tr>\n",
       "      <th>32310</th>\n",
       "      <td>chr13</td>\n",
       "      <td>73586259</td>\n",
       "      <td>73586260</td>\n",
       "      <td>C/T</td>\n",
       "      <td>0.006640</td>\n",
       "      <td>0.026187</td>\n",
       "      <td>1180</td>\n",
       "      <td>rs111537727</td>\n",
       "    </tr>\n",
       "    <tr>\n",
       "      <th>32309</th>\n",
       "      <td>chr13</td>\n",
       "      <td>73586259</td>\n",
       "      <td>73586260</td>\n",
       "      <td>C/A</td>\n",
       "      <td>-0.080405</td>\n",
       "      <td>0.033045</td>\n",
       "      <td>1180</td>\n",
       "      <td>rs111537727</td>\n",
       "    </tr>\n",
       "  </tbody>\n",
       "</table>\n",
       "</div>"
      ],
      "text/plain": [
       "         Chr     Start       End Ref/Alt      beta      pval  phenotype  \\\n",
       "32310  chr13  73586259  73586260     C/T  0.006640  0.026187       1180   \n",
       "32309  chr13  73586259  73586260     C/A -0.080405  0.033045       1180   \n",
       "\n",
       "                ID  \n",
       "32310  rs111537727  \n",
       "32309  rs111537727  "
      ]
     },
     "execution_count": 7,
     "metadata": {},
     "output_type": "execute_result"
    }
   ],
   "source": [
    "# Check for duplicated variants\n",
    "df_full[df_full['ID'].duplicated(keep=False)]\n"
   ]
  },
  {
   "cell_type": "code",
   "execution_count": 8,
   "id": "3ce0499e-ac85-4640-82b4-8ddb54996b44",
   "metadata": {},
   "outputs": [],
   "source": [
    "# Drop second duplicated row\n",
    "df_full = df_full.drop_duplicates(subset='ID', keep='first')\n",
    "df_full = df_full.reset_index(drop=True)\n"
   ]
  },
  {
   "cell_type": "code",
   "execution_count": 21,
   "id": "c5e0529c-87a0-4d5c-b8ac-8ff65e543ed1",
   "metadata": {},
   "outputs": [
    {
     "data": {
      "text/html": [
       "<div>\n",
       "<style scoped>\n",
       "    .dataframe tbody tr th:only-of-type {\n",
       "        vertical-align: middle;\n",
       "    }\n",
       "\n",
       "    .dataframe tbody tr th {\n",
       "        vertical-align: top;\n",
       "    }\n",
       "\n",
       "    .dataframe thead th {\n",
       "        text-align: right;\n",
       "    }\n",
       "</style>\n",
       "<table border=\"1\" class=\"dataframe\">\n",
       "  <thead>\n",
       "    <tr style=\"text-align: right;\">\n",
       "      <th></th>\n",
       "      <th>Chr</th>\n",
       "      <th>Start</th>\n",
       "      <th>End</th>\n",
       "      <th>Ref/Alt</th>\n",
       "      <th>beta</th>\n",
       "      <th>pval</th>\n",
       "      <th>phenotype</th>\n",
       "      <th>ID</th>\n",
       "    </tr>\n",
       "  </thead>\n",
       "  <tbody>\n",
       "    <tr>\n",
       "      <th>0</th>\n",
       "      <td>chr2</td>\n",
       "      <td>239311504</td>\n",
       "      <td>239311505</td>\n",
       "      <td>C/T</td>\n",
       "      <td>0.041197</td>\n",
       "      <td>7.275790e-24</td>\n",
       "      <td>1180</td>\n",
       "      <td>rs80271258</td>\n",
       "    </tr>\n",
       "    <tr>\n",
       "      <th>1</th>\n",
       "      <td>chr2</td>\n",
       "      <td>239311368</td>\n",
       "      <td>239311369</td>\n",
       "      <td>C/T</td>\n",
       "      <td>0.041180</td>\n",
       "      <td>7.455270e-24</td>\n",
       "      <td>1180</td>\n",
       "      <td>rs57435966</td>\n",
       "    </tr>\n",
       "    <tr>\n",
       "      <th>2</th>\n",
       "      <td>chr2</td>\n",
       "      <td>239302567</td>\n",
       "      <td>239302568</td>\n",
       "      <td>G/A</td>\n",
       "      <td>0.041098</td>\n",
       "      <td>8.758850e-24</td>\n",
       "      <td>1180</td>\n",
       "      <td>rs74979875</td>\n",
       "    </tr>\n",
       "    <tr>\n",
       "      <th>3</th>\n",
       "      <td>chr2</td>\n",
       "      <td>239307112</td>\n",
       "      <td>239307113</td>\n",
       "      <td>A/G</td>\n",
       "      <td>0.040902</td>\n",
       "      <td>1.347560e-23</td>\n",
       "      <td>1180</td>\n",
       "      <td>rs77008212</td>\n",
       "    </tr>\n",
       "    <tr>\n",
       "      <th>4</th>\n",
       "      <td>chr2</td>\n",
       "      <td>239282141</td>\n",
       "      <td>239282142</td>\n",
       "      <td>G/T</td>\n",
       "      <td>0.040952</td>\n",
       "      <td>1.357370e-23</td>\n",
       "      <td>1180</td>\n",
       "      <td>rs149249498</td>\n",
       "    </tr>\n",
       "  </tbody>\n",
       "</table>\n",
       "</div>"
      ],
      "text/plain": [
       "    Chr      Start        End Ref/Alt      beta          pval  phenotype  \\\n",
       "0  chr2  239311504  239311505     C/T  0.041197  7.275790e-24       1180   \n",
       "1  chr2  239311368  239311369     C/T  0.041180  7.455270e-24       1180   \n",
       "2  chr2  239302567  239302568     G/A  0.041098  8.758850e-24       1180   \n",
       "3  chr2  239307112  239307113     A/G  0.040902  1.347560e-23       1180   \n",
       "4  chr2  239282141  239282142     G/T  0.040952  1.357370e-23       1180   \n",
       "\n",
       "            ID  \n",
       "0   rs80271258  \n",
       "1   rs57435966  \n",
       "2   rs74979875  \n",
       "3   rs77008212  \n",
       "4  rs149249498  "
      ]
     },
     "execution_count": 21,
     "metadata": {},
     "output_type": "execute_result"
    }
   ],
   "source": [
    "df_full.head()"
   ]
  },
  {
   "cell_type": "code",
   "execution_count": 22,
   "id": "d9e3ea13-6e75-4ebe-a413-526ebc96d11d",
   "metadata": {},
   "outputs": [],
   "source": [
    "# Create cummulative morningness percentage using beta values\n",
    "# Add log10 P-value column\n",
    "c=0\n",
    "l=[]\n",
    "for i in range(len(df_full)):\n",
    "    if df_full['beta'][i] >= 0:\n",
    "        c+=1\n",
    "    l.append([df_full['ID'][i],df_full['beta'][i],(df_full['pval'][i]),math.log10(df_full['pval'][i]),c/(i+1)])\n",
    "    #l.append([math.log10(df_short['pval'][i]),c/(i+1)])\n",
    "    \n",
    "df_plot = pd.DataFrame(l,columns=['RSID','Beta','P-Value','log10 P-Value','% Morningness'])\n"
   ]
  },
  {
   "cell_type": "code",
   "execution_count": 23,
   "id": "2d9df6e0-028e-453c-ab30-948a6e12fd37",
   "metadata": {},
   "outputs": [
    {
     "data": {
      "text/html": [
       "<div>\n",
       "<style scoped>\n",
       "    .dataframe tbody tr th:only-of-type {\n",
       "        vertical-align: middle;\n",
       "    }\n",
       "\n",
       "    .dataframe tbody tr th {\n",
       "        vertical-align: top;\n",
       "    }\n",
       "\n",
       "    .dataframe thead th {\n",
       "        text-align: right;\n",
       "    }\n",
       "</style>\n",
       "<table border=\"1\" class=\"dataframe\">\n",
       "  <thead>\n",
       "    <tr style=\"text-align: right;\">\n",
       "      <th></th>\n",
       "      <th>RSID</th>\n",
       "      <th>Beta</th>\n",
       "      <th>P-Value</th>\n",
       "      <th>log10 P-Value</th>\n",
       "      <th>% Morningness</th>\n",
       "    </tr>\n",
       "  </thead>\n",
       "  <tbody>\n",
       "    <tr>\n",
       "      <th>189</th>\n",
       "      <td>rs72984594</td>\n",
       "      <td>0.023426</td>\n",
       "      <td>7.818520e-12</td>\n",
       "      <td>-11.106875</td>\n",
       "      <td>0.521053</td>\n",
       "    </tr>\n",
       "  </tbody>\n",
       "</table>\n",
       "</div>"
      ],
      "text/plain": [
       "           RSID      Beta       P-Value  log10 P-Value  % Morningness\n",
       "189  rs72984594  0.023426  7.818520e-12     -11.106875       0.521053"
      ]
     },
     "execution_count": 23,
     "metadata": {},
     "output_type": "execute_result"
    }
   ],
   "source": [
    "df_plot[df_plot['RSID'].isin(['rs72984594'])]"
   ]
  },
  {
   "cell_type": "code",
   "execution_count": 24,
   "id": "5172fae6-ea8b-4c82-ba53-dc57b65d699b",
   "metadata": {},
   "outputs": [],
   "source": [
    "# SAVE\n",
    "#df_plot.to_csv('data/plotting_ukbb_morningness_introgressed_direction_of_effect.txt',\n",
    "#               sep='\\t', index=False)\n"
   ]
  },
  {
   "cell_type": "code",
   "execution_count": null,
   "id": "85189fb1-7e03-4421-9c05-34b88bc2b5df",
   "metadata": {},
   "outputs": [],
   "source": []
  },
  {
   "cell_type": "code",
   "execution_count": null,
   "id": "9e273988-5b5e-489d-b314-31cf62a5c614",
   "metadata": {},
   "outputs": [],
   "source": []
  },
  {
   "cell_type": "code",
   "execution_count": null,
   "id": "6bd4972f-70c0-4017-bca8-eec111ac1175",
   "metadata": {},
   "outputs": [],
   "source": []
  },
  {
   "cell_type": "code",
   "execution_count": 25,
   "id": "dbbd3508-e139-4e86-8f11-a08159397ec5",
   "metadata": {},
   "outputs": [],
   "source": [
    "# -----------------------------------------------------------------------\n",
    "# PREPARE INPUT DATA FOR CLUMPING IN PLINK\n",
    "# Create input file containing columns: SNP|PVAL\n",
    "# Download MAGMA CEU: wget https://ctg.cncr.nl/software/MAGMA/ref_data/g1000_eur.zip\n",
    "# plink --bfile g1000_eur --clump /dors/capra_lab/users/velazqks/projects/neanderthal_circadian/notebooks/data/input_clump_ukbb_gwas_1180.txt --clump-r2 0.90 --clump-field P --clump-p1 1\n",
    "# cp plink.clumped /dors/capra_lab/users/velazqks/projects/neanderthal_circadian/notebooks/data/\n"
   ]
  },
  {
   "cell_type": "code",
   "execution_count": 26,
   "id": "d329d736-1609-4cd9-bc44-3b8314d853ab",
   "metadata": {},
   "outputs": [],
   "source": [
    "to_clump_1180 = df_full[['ID','pval']].copy()\n",
    "to_clump_1180.rename(columns={'ID':'SNP','pval':'P'},inplace=True)"
   ]
  },
  {
   "cell_type": "code",
   "execution_count": 27,
   "id": "e1280af5-4af0-4ef6-acd7-229510537168",
   "metadata": {},
   "outputs": [],
   "source": [
    "to_clump_1180 = to_clump_1180[to_clump_1180['SNP'].str.startswith('rs')]"
   ]
  },
  {
   "cell_type": "code",
   "execution_count": 28,
   "id": "f0f508d3-913c-43a1-b7c0-4eebbaff1339",
   "metadata": {},
   "outputs": [],
   "source": [
    "# SAVE\n",
    "#to_clump_1180.to_csv('data/input_clump_ukbb_gwas_1180.txt',sep='\\t', index=False)"
   ]
  },
  {
   "cell_type": "code",
   "execution_count": null,
   "id": "39f9b2b0-6eaa-4b46-83b5-6b73c264f512",
   "metadata": {},
   "outputs": [],
   "source": []
  },
  {
   "cell_type": "code",
   "execution_count": null,
   "id": "63d9da8e-8867-4dee-a68e-c9d3904de244",
   "metadata": {},
   "outputs": [],
   "source": []
  },
  {
   "cell_type": "code",
   "execution_count": null,
   "id": "0a7fc0e2-89d2-4e84-9375-677dd42ef93a",
   "metadata": {},
   "outputs": [],
   "source": []
  },
  {
   "cell_type": "code",
   "execution_count": 29,
   "id": "2e2c0dd9-f324-4e41-b82e-72732286940e",
   "metadata": {},
   "outputs": [],
   "source": [
    "# ---------------------------------------------------\n",
    "# WRANGLE PLINK CLUMPED FILE"
   ]
  },
  {
   "cell_type": "code",
   "execution_count": 31,
   "id": "5fe3de91-71be-4072-a2dd-ef9479f47b31",
   "metadata": {},
   "outputs": [],
   "source": [
    "f = open('data/ukbb_morningness_introgressed_direction_of_effect.clumped').readlines()\n",
    "fl = [line.split() for line in f]\n",
    "df_clumped = pd.DataFrame(fl[1:], columns=fl[0:1][0])\n",
    "#df_clumped.columns = fl[0:1][0]\n",
    "df_clumped.dropna(inplace=True)"
   ]
  },
  {
   "cell_type": "code",
   "execution_count": 32,
   "id": "be041889-a612-4e9a-b118-e9070acbe9c9",
   "metadata": {},
   "outputs": [],
   "source": [
    "# FILTER COLUMNS\n",
    "df_clumped = df_clumped[['CHR','BP','SNP','TOTAL','SP2']]"
   ]
  },
  {
   "cell_type": "code",
   "execution_count": 33,
   "id": "1327b3bb-3e24-4f11-b192-ff4c047f7989",
   "metadata": {},
   "outputs": [],
   "source": [
    "#ids = df_full['ID']\n",
    "#ids.rename(columns={'ID':'SNP'},inplace=True)\n",
    "df_clumped.rename(columns={'SNP':'ID'}, inplace=True)\n"
   ]
  },
  {
   "cell_type": "code",
   "execution_count": 34,
   "id": "77e62996-bdde-4461-975e-042c5700f902",
   "metadata": {},
   "outputs": [],
   "source": [
    "# GET LOCI, BETA, AND PVAL COLUMNS\n",
    "df_clump_merge = pd.merge(df_clumped,df_full,on='ID')"
   ]
  },
  {
   "cell_type": "code",
   "execution_count": 59,
   "id": "f1b5ca19-361a-4328-8e46-8086fccb67b7",
   "metadata": {},
   "outputs": [],
   "source": [
    "# GENERATE CUMULATIVE MORNINGNESS PERCENTAGE AND LOG10 PVALUE\n",
    "c=0\n",
    "l=[]\n",
    "for i in range(len(df_clump_merge)):\n",
    "    if df_clump_merge['beta'][i] >= 0:\n",
    "        c+=1\n",
    "    l.append([df_clump_merge['ID'][i],df_clump_merge['beta'][i],(df_clump_merge['pval'][i]),math.log10(df_clump_merge['pval'][i]),c/(i+1)])\n",
    "    #l.append([math.log10(df_short['pval'][i]),c/(i+1)])\n",
    "    \n",
    "clump_plot = pd.DataFrame(l,columns=['RSID','Beta','P-Value','log10 P-Value','% Morningness'])"
   ]
  },
  {
   "cell_type": "code",
   "execution_count": 36,
   "id": "c5c1138b-d703-4a79-a23d-fdd9528c7298",
   "metadata": {},
   "outputs": [
    {
     "data": {
      "text/html": [
       "<div>\n",
       "<style scoped>\n",
       "    .dataframe tbody tr th:only-of-type {\n",
       "        vertical-align: middle;\n",
       "    }\n",
       "\n",
       "    .dataframe tbody tr th {\n",
       "        vertical-align: top;\n",
       "    }\n",
       "\n",
       "    .dataframe thead th {\n",
       "        text-align: right;\n",
       "    }\n",
       "</style>\n",
       "<table border=\"1\" class=\"dataframe\">\n",
       "  <thead>\n",
       "    <tr style=\"text-align: right;\">\n",
       "      <th></th>\n",
       "      <th>RSID</th>\n",
       "      <th>Beta</th>\n",
       "      <th>P-Value</th>\n",
       "      <th>log10 P-Value</th>\n",
       "      <th>% Morningness</th>\n",
       "    </tr>\n",
       "  </thead>\n",
       "  <tbody>\n",
       "    <tr>\n",
       "      <th>0</th>\n",
       "      <td>rs80271258</td>\n",
       "      <td>0.041197</td>\n",
       "      <td>7.275790e-24</td>\n",
       "      <td>-23.138120</td>\n",
       "      <td>1.0</td>\n",
       "    </tr>\n",
       "    <tr>\n",
       "      <th>1</th>\n",
       "      <td>rs75804782</td>\n",
       "      <td>0.032813</td>\n",
       "      <td>5.890100e-21</td>\n",
       "      <td>-20.229877</td>\n",
       "      <td>1.0</td>\n",
       "    </tr>\n",
       "    <tr>\n",
       "      <th>2</th>\n",
       "      <td>rs55694368</td>\n",
       "      <td>0.034115</td>\n",
       "      <td>1.820190e-20</td>\n",
       "      <td>-19.739883</td>\n",
       "      <td>1.0</td>\n",
       "    </tr>\n",
       "    <tr>\n",
       "      <th>3</th>\n",
       "      <td>rs72983834</td>\n",
       "      <td>0.032439</td>\n",
       "      <td>2.420690e-20</td>\n",
       "      <td>-19.616061</td>\n",
       "      <td>1.0</td>\n",
       "    </tr>\n",
       "    <tr>\n",
       "      <th>4</th>\n",
       "      <td>rs112779025</td>\n",
       "      <td>0.044829</td>\n",
       "      <td>9.386490e-20</td>\n",
       "      <td>-19.027497</td>\n",
       "      <td>1.0</td>\n",
       "    </tr>\n",
       "  </tbody>\n",
       "</table>\n",
       "</div>"
      ],
      "text/plain": [
       "          RSID      Beta       P-Value  log10 P-Value  % Morningness\n",
       "0   rs80271258  0.041197  7.275790e-24     -23.138120            1.0\n",
       "1   rs75804782  0.032813  5.890100e-21     -20.229877            1.0\n",
       "2   rs55694368  0.034115  1.820190e-20     -19.739883            1.0\n",
       "3   rs72983834  0.032439  2.420690e-20     -19.616061            1.0\n",
       "4  rs112779025  0.044829  9.386490e-20     -19.027497            1.0"
      ]
     },
     "execution_count": 36,
     "metadata": {},
     "output_type": "execute_result"
    }
   ],
   "source": [
    "clump_plot.head()"
   ]
  },
  {
   "cell_type": "code",
   "execution_count": 38,
   "id": "30ec0230-507b-4561-b215-a53888cdcba9",
   "metadata": {},
   "outputs": [],
   "source": [
    "# SAVE\n",
    "#clump_plot.to_csv('data/plotting_ukbb_morningness_introgressed_direction_of_effect_clump.txt',\n",
    "#               sep='\\t', index=False)"
   ]
  },
  {
   "cell_type": "code",
   "execution_count": null,
   "id": "40f09860-545d-4fad-b9bb-19ad04bc3ea3",
   "metadata": {},
   "outputs": [],
   "source": []
  },
  {
   "cell_type": "code",
   "execution_count": null,
   "id": "b110ed6a-1987-43bd-84f5-102e05be16b7",
   "metadata": {},
   "outputs": [],
   "source": []
  },
  {
   "cell_type": "code",
   "execution_count": null,
   "id": "13d70612-c4c4-4b8d-b56e-567f509d40d6",
   "metadata": {},
   "outputs": [],
   "source": []
  },
  {
   "cell_type": "code",
   "execution_count": null,
   "id": "868e3f37-56df-4f7f-ae44-c820f59da9a5",
   "metadata": {},
   "outputs": [],
   "source": [
    "# ----------------------------------------------------------------------\n"
   ]
  },
  {
   "cell_type": "code",
   "execution_count": 66,
   "id": "6eba5503-d69e-4682-a0ba-32fb93bdc1bb",
   "metadata": {},
   "outputs": [],
   "source": [
    "ci = pd.read_csv('../data/circadian_variants_introgressed.bed', sep='\\t')['ID'].drop_duplicates()\n",
    "clump_c = df_clump_merge[df_clump_merge['ID'].isin(ci)].reset_index(drop=True)\n",
    "\n",
    "# GENERATE CUMULATIVE MORNINGNESS PERCENTAGE AND LOG10 PVALUE\n",
    "c=0\n",
    "l=[]\n",
    "for i in range(len(clump_c)):\n",
    "    if clump_c['beta'][i] >= 0:\n",
    "        c+=1\n",
    "    l.append([clump_c['ID'][i],clump_c['beta'][i],(clump_c['pval'][i]),math.log10(clump_c['pval'][i]),c/(i+1)])\n",
    "    #l.append([math.log10(df_short['pval'][i]),c/(i+1)])\n",
    "    \n",
    "clump_c_plot = pd.DataFrame(l,columns=['RSID','Beta','P-Value','log10 P-Value','% Morningness'])\n"
   ]
  },
  {
   "cell_type": "code",
   "execution_count": 68,
   "id": "8c5e7da8-ba9c-44c9-a9ff-68fb93cb6179",
   "metadata": {},
   "outputs": [],
   "source": [
    "# SAVE\n",
    "clump_c_plot.to_csv('data/plotting_ukbb_morningness_introgressed_c_direction_of_effect_clump.txt',\n",
    "               sep='\\t', index=False)"
   ]
  },
  {
   "cell_type": "code",
   "execution_count": null,
   "id": "5d4aeedf-85ab-4970-8a4b-91d89feaab8d",
   "metadata": {},
   "outputs": [],
   "source": []
  },
  {
   "cell_type": "code",
   "execution_count": null,
   "id": "fb4fca0f-23f0-4601-a98b-162aec310114",
   "metadata": {},
   "outputs": [],
   "source": []
  },
  {
   "cell_type": "code",
   "execution_count": 54,
   "id": "d931f997-ad8f-4657-9390-58777d09d951",
   "metadata": {},
   "outputs": [],
   "source": [
    "def add_loci_col(df):\n",
    "    df['Loci'] = df.iloc[:,0]+'_'+df.iloc[:,2].astype(str)\n",
    "    return df\n"
   ]
  },
  {
   "cell_type": "code",
   "execution_count": 55,
   "id": "fcb48618-49a6-4b09-8f2f-7a6db439c27d",
   "metadata": {},
   "outputs": [],
   "source": [
    "chronotype = add_loci_col(chronotype)\n",
    "introgressed = add_loci_col(introgressed)"
   ]
  },
  {
   "cell_type": "code",
   "execution_count": 60,
   "id": "08c85b55-1759-4a5b-a6bd-b0fc655c0db4",
   "metadata": {},
   "outputs": [],
   "source": [
    "non_introg=chronotype[~chronotype['Loci'].isin(introgressed['Loci'])]"
   ]
  },
  {
   "cell_type": "code",
   "execution_count": 64,
   "id": "10692b89-ab7b-4893-8ec2-743856b14dab",
   "metadata": {},
   "outputs": [
    {
     "name": "stderr",
     "output_type": "stream",
     "text": [
      "/home/velazqks/.conda/envs/ksva/lib/python3.6/site-packages/ipykernel_launcher.py:1: SettingWithCopyWarning: \n",
      "A value is trying to be set on a copy of a slice from a DataFrame\n",
      "\n",
      "See the caveats in the documentation: https://pandas.pydata.org/pandas-docs/stable/user_guide/indexing.html#returning-a-view-versus-a-copy\n",
      "  \"\"\"Entry point for launching an IPython kernel.\n"
     ]
    }
   ],
   "source": [
    "non_introg.sort_values(by='pval',inplace=True)"
   ]
  },
  {
   "cell_type": "code",
   "execution_count": 76,
   "id": "af465bda-7a7a-4e4d-9783-19eca5aba15c",
   "metadata": {},
   "outputs": [],
   "source": [
    "import pandas as pd\n",
    "import numpy as np\n",
    "import math\n",
    "import matplotlib.pylab as plt\n",
    "pd.set_option('display.max_rows', 600)\n",
    "import seaborn as sns\n",
    "sns.set(rc = {'figure.figsize':(15,8)})\n",
    "sns.set_style(\"whitegrid\")\n",
    "sns.set_context(\"poster\")\n"
   ]
  },
  {
   "cell_type": "code",
   "execution_count": 84,
   "id": "36ff67ec-4221-4978-97ab-e30a7fb4b8d8",
   "metadata": {
    "tags": []
   },
   "outputs": [],
   "source": [
    "c=0\n",
    "l=[]\n",
    "for i in range(len(non_introg)):\n",
    "    if non_introg['beta'][i] >= 0:\n",
    "        #print(non_introg['beta'][i])\n",
    "        c+=1\n",
    "    l.append([non_introg['Loci'][i],non_introg['beta'][i],(non_introg['pval'][i]),math.log10(non_introg['pval'][i]),c/(i+1)])\n",
    "    "
   ]
  },
  {
   "cell_type": "code",
   "execution_count": 85,
   "id": "f1605ad6-5380-4823-882e-d6a782f72cf6",
   "metadata": {},
   "outputs": [],
   "source": [
    "no_i_plot = pd.DataFrame(l,columns=['Loci','Beta','P-Value','log10 P-Value','% Morningness'])"
   ]
  },
  {
   "cell_type": "code",
   "execution_count": 89,
   "id": "4d962580-50d9-482c-b388-dc16021cbc88",
   "metadata": {},
   "outputs": [
    {
     "data": {
      "image/png": "[encoded data removed]",
      "text/plain": [
       "<Figure size 1080x576 with 1 Axes>"
      ]
     },
     "metadata": {},
     "output_type": "display_data"
    }
   ],
   "source": [
    "# \n",
    "sns.lineplot(x='P-Value',y='% Morningness',data=no_i_plot, \n",
    "             color='blue', linewidth=2.5, marker='o',markersize=6)\n",
    "plt.xticks(rotation=90);\n",
    "#plt.title('{} bins'.format(6))\n",
    "#plt.savefig(\"plots/ukbb_morningness_introgressed_direction_of_effect_clump.pdf\", dpi=300)\n",
    "plt.show()"
   ]
  },
  {
   "cell_type": "code",
   "execution_count": 81,
   "id": "984581ec-74cf-4369-962a-df60c81ace84",
   "metadata": {},
   "outputs": [],
   "source": [
    "non_introg.reset_index(drop=True,inplace=True)"
   ]
  },
  {
   "cell_type": "code",
   "execution_count": 92,
   "id": "ab71d140-a503-4333-980b-3173b0287655",
   "metadata": {},
   "outputs": [
    {
     "data": {
      "text/html": [
       "<div>\n",
       "<style scoped>\n",
       "    .dataframe tbody tr th:only-of-type {\n",
       "        vertical-align: middle;\n",
       "    }\n",
       "\n",
       "    .dataframe tbody tr th {\n",
       "        vertical-align: top;\n",
       "    }\n",
       "\n",
       "    .dataframe thead th {\n",
       "        text-align: right;\n",
       "    }\n",
       "</style>\n",
       "<table border=\"1\" class=\"dataframe\">\n",
       "  <thead>\n",
       "    <tr style=\"text-align: right;\">\n",
       "      <th></th>\n",
       "      <th>Chr</th>\n",
       "      <th>Start</th>\n",
       "      <th>End</th>\n",
       "      <th>ID</th>\n",
       "      <th>Loci</th>\n",
       "    </tr>\n",
       "  </thead>\n",
       "  <tbody>\n",
       "    <tr>\n",
       "      <th>0</th>\n",
       "      <td>chr1</td>\n",
       "      <td>713157</td>\n",
       "      <td>713158</td>\n",
       "      <td>rs183634591</td>\n",
       "      <td>chr1_713158</td>\n",
       "    </tr>\n",
       "    <tr>\n",
       "      <th>1</th>\n",
       "      <td>chr1</td>\n",
       "      <td>713249</td>\n",
       "      <td>713250</td>\n",
       "      <td>rs149143617</td>\n",
       "      <td>chr1_713250</td>\n",
       "    </tr>\n",
       "    <tr>\n",
       "      <th>2</th>\n",
       "      <td>chr1</td>\n",
       "      <td>714621</td>\n",
       "      <td>714622</td>\n",
       "      <td>rs117741916</td>\n",
       "      <td>chr1_714622</td>\n",
       "    </tr>\n",
       "    <tr>\n",
       "      <th>3</th>\n",
       "      <td>chr1</td>\n",
       "      <td>715141</td>\n",
       "      <td>715142</td>\n",
       "      <td>rs151120166</td>\n",
       "      <td>chr1_715142</td>\n",
       "    </tr>\n",
       "    <tr>\n",
       "      <th>4</th>\n",
       "      <td>chr1</td>\n",
       "      <td>715516</td>\n",
       "      <td>715517</td>\n",
       "      <td>rs138194918</td>\n",
       "      <td>chr1_715517</td>\n",
       "    </tr>\n",
       "    <tr>\n",
       "      <th>...</th>\n",
       "      <td>...</td>\n",
       "      <td>...</td>\n",
       "      <td>...</td>\n",
       "      <td>...</td>\n",
       "      <td>...</td>\n",
       "    </tr>\n",
       "    <tr>\n",
       "      <th>900897</th>\n",
       "      <td>chr9</td>\n",
       "      <td>141092111</td>\n",
       "      <td>141092112</td>\n",
       "      <td>rs548368184</td>\n",
       "      <td>chr9_141092112</td>\n",
       "    </tr>\n",
       "    <tr>\n",
       "      <th>900898</th>\n",
       "      <td>chr9</td>\n",
       "      <td>141099782</td>\n",
       "      <td>141099783</td>\n",
       "      <td>rs148685139</td>\n",
       "      <td>chr9_141099783</td>\n",
       "    </tr>\n",
       "    <tr>\n",
       "      <th>900899</th>\n",
       "      <td>chr9</td>\n",
       "      <td>141102168</td>\n",
       "      <td>141102169</td>\n",
       "      <td>rs145761426</td>\n",
       "      <td>chr9_141102169</td>\n",
       "    </tr>\n",
       "    <tr>\n",
       "      <th>900900</th>\n",
       "      <td>chr9</td>\n",
       "      <td>141103292</td>\n",
       "      <td>141103293</td>\n",
       "      <td>rs566854511</td>\n",
       "      <td>chr9_141103293</td>\n",
       "    </tr>\n",
       "    <tr>\n",
       "      <th>900901</th>\n",
       "      <td>chr9</td>\n",
       "      <td>141107619</td>\n",
       "      <td>141107620</td>\n",
       "      <td>rs539878413</td>\n",
       "      <td>chr9_141107620</td>\n",
       "    </tr>\n",
       "  </tbody>\n",
       "</table>\n",
       "<p>900902 rows × 5 columns</p>\n",
       "</div>"
      ],
      "text/plain": [
       "         Chr      Start        End           ID            Loci\n",
       "0       chr1     713157     713158  rs183634591     chr1_713158\n",
       "1       chr1     713249     713250  rs149143617     chr1_713250\n",
       "2       chr1     714621     714622  rs117741916     chr1_714622\n",
       "3       chr1     715141     715142  rs151120166     chr1_715142\n",
       "4       chr1     715516     715517  rs138194918     chr1_715517\n",
       "...      ...        ...        ...          ...             ...\n",
       "900897  chr9  141092111  141092112  rs548368184  chr9_141092112\n",
       "900898  chr9  141099782  141099783  rs148685139  chr9_141099783\n",
       "900899  chr9  141102168  141102169  rs145761426  chr9_141102169\n",
       "900900  chr9  141103292  141103293  rs566854511  chr9_141103293\n",
       "900901  chr9  141107619  141107620  rs539878413  chr9_141107620\n",
       "\n",
       "[900902 rows x 5 columns]"
      ]
     },
     "execution_count": 92,
     "metadata": {},
     "output_type": "execute_result"
    }
   ],
   "source": [
    "introgressed"
   ]
  },
  {
   "cell_type": "code",
   "execution_count": null,
   "id": "84e901a8-c5de-4f43-9f33-e9e7378454f1",
   "metadata": {},
   "outputs": [],
   "source": []
  },
  {
   "cell_type": "code",
   "execution_count": null,
   "id": "82f934f0-ed2c-4e38-8d9b-397b3feaea4b",
   "metadata": {},
   "outputs": [],
   "source": []
  }
 ],
 "metadata": {
  "kernelspec": {
   "display_name": "Python (ksva)",
   "language": "python",
   "name": "ksva"
  },
  "language_info": {
   "codemirror_mode": {
    "name": "ipython",
    "version": 3
   },
   "file_extension": ".py",
   "mimetype": "text/x-python",
   "name": "python",
   "nbconvert_exporter": "python",
   "pygments_lexer": "ipython3",
   "version": "3.6.11"
  }
 },
 "nbformat": 4,
 "nbformat_minor": 5
}

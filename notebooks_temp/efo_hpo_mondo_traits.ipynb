{
 "cells": [
  {
   "cell_type": "code",
   "execution_count": 6,
   "id": "625a1e62-4f71-403c-9c6f-5b87170f315d",
   "metadata": {},
   "outputs": [
    {
     "data": {
      "text/plain": [
       "'\\n# \\n# Keila Velazquez-Arcelay\\n# Description: Imports EFO, HPO, ORDO, CHEBI, and MONDO datasets, wrangles the files, and\\n# intersects with opentargets results containing introgressed circadian associations.\\n# \\n# EFO: https://www.ebi.ac.uk/efo/\\n# MONDO: https://obofoundry.org/ontology/mondo.html\\n# HPO: https://hpo.jax.org/app/download/ontology\\n# \\n'"
      ]
     },
     "execution_count": 6,
     "metadata": {},
     "output_type": "execute_result"
    }
   ],
   "source": [
    "#\n",
    "# -ukbb.ipynb\n",
    "\"\"\"\"\"\"\"\"\"\"\"\"\"\"\"\"\"\"\"\"\"\"\"\"\"\"\"\"\"\"\"\"\"\"\"\"\"\"\"\"\"\"\"\"\"\"\"\"\"\"\"\"\"\"\"\"\"\"\"\"\"\"\"\"\"\"\"\"\"\"\"\"\"\"\"\n",
    "# \n",
    "# Keila Velazquez-Arcelay\n",
    "# Description: Imports EFO, HPO, ORDO, CHEBI, and MONDO datasets, wrangles the files, and\n",
    "# intersects with opentargets results containing introgressed circadian associations.\n",
    "# \n",
    "# EFO: https://www.ebi.ac.uk/efo/\n",
    "# MONDO: https://obofoundry.org/ontology/mondo.html\n",
    "# HPO: https://hpo.jax.org/app/download/ontology\n",
    "# \n",
    "\"\"\"\"\"\"\"\"\"\"\"\"\"\"\"\"\"\"\"\"\"\"\"\"\"\"\"\"\"\"\"\"\"\"\"\"\"\"\"\"\"\"\"\"\"\"\"\"\"\"\"\"\"\"\"\"\"\"\"\"\"\"\"\"\"\"\"\"\"\"\"\"\"\"\""
   ]
  },
  {
   "cell_type": "code",
   "execution_count": 7,
   "id": "b79dc2a8-8cc2-407e-a6ff-92d711b69403",
   "metadata": {
    "tags": []
   },
   "outputs": [],
   "source": [
    "EFO = '/dors/capra_lab/data/gene_ontology/efo.obo'\n",
    "EFO_CSV = '/dors/capra_lab/data/gene_ontology/EFO.csv'\n",
    "HPO = '/dors/capra_lab/data/gene_ontology/hp.obo'\n",
    "HPO_CSV = '/dors/capra_lab/data/gene_ontology/HP.csv'\n",
    "MONDO = '/dors/capra_lab/data/gene_ontology/mondo.obo'\n",
    "MONDO_CSV = '/dors/capra_lab/data/gene_ontology/MONDO.csv'\n",
    "ORDO_CSV = '/dors/capra_lab/data/gene_ontology/ORDO.csv'\n",
    "CHEBI_CSV = '/dors/capra_lab/data/gene_ontology/CHEBI.csv'"
   ]
  },
  {
   "cell_type": "code",
   "execution_count": 8,
   "id": "c5f69081-b23c-4315-bbc0-47bf63c1b77a",
   "metadata": {},
   "outputs": [],
   "source": [
    "import pandas as pd\n",
    "import re, os\n",
    "import numpy as np"
   ]
  },
  {
   "cell_type": "code",
   "execution_count": 10,
   "id": "38503199-7f0b-4aa9-b918-7e1189106d42",
   "metadata": {},
   "outputs": [],
   "source": [
    "\n",
    "def parse_file(file):\n",
    "    # Wrangle EFO, HPO, and MONDO datasets\n",
    "    l = []\n",
    "    with open(file, 'r+') as f:\n",
    "        for line in f:\n",
    "            if line.startswith('[Term]'):\n",
    "                ID = (next(f, line))\n",
    "                NAME = (next(f, line))\n",
    "                DESCR = (next(f, line))\n",
    "                l.append(\"{};{}\".format(ID,NAME))\n",
    "        l = [n.strip() for n in l]\n",
    "        l = [sub.replace('id: ', '') for sub in l]\n",
    "        l = [n.split('\\n;name: ') for n in l]\n",
    "        df = pd.DataFrame(l, columns=['traitEfos','traitEfos_Name'])\n",
    "        df['traitEfos'] = df['traitEfos'].str.replace(':','_')\n",
    "    return df\n"
   ]
  },
  {
   "cell_type": "code",
   "execution_count": null,
   "id": "706586f2-382e-46e8-8076-8e4047ed56d2",
   "metadata": {},
   "outputs": [],
   "source": [
    "# \n",
    "opentargets = pd.read_csv('../bin/raw/opentargets_output_browning18_associations_all.txt', sep='\\t')\n",
    "opentargets['traitEfos'] = opentargets['traitEfos'].str.replace(\"\\['|'\\]\",\"\")\n",
    "opentargets = opentargets[opentargets['traitEfos'].notnull()]\n",
    "opentargets = opentargets[~opentargets['traitEfos'].isin(['[]'])]\n",
    "opentargets['traitEfos'] = [n.split('\\', \\'') for n in opentargets['traitEfos']]\n",
    "opentargets = opentargets.explode('traitEfos').drop_duplicates()\n"
   ]
  },
  {
   "cell_type": "code",
   "execution_count": null,
   "id": "9a1af561-19ad-469e-a4f3-da999b0c4be1",
   "metadata": {},
   "outputs": [],
   "source": []
  },
  {
   "cell_type": "code",
   "execution_count": 44,
   "id": "f4eb299d-65c2-4b2c-abc2-853034f6e338",
   "metadata": {},
   "outputs": [],
   "source": [
    "\n",
    "# LOAD FILES\n",
    "efo = parse_file(EFO)\n",
    "efo = efo[efo['traitEfos'].str.contains('EFO_')]\n",
    "hpo = parse_file(HPO)\n",
    "mondo = parse_file(MONDO)\n",
    "\n",
    "ordo = pd.read_csv(ORDO_CSV, sep=',').iloc[:,:2].drop_duplicates()\n",
    "ordo.columns = ['traitEfos','traitEfos_Name']\n",
    "ordo['traitEfos'] = ordo['traitEfos'].replace('.*/','', regex=True)\n",
    "chebi = pd.read_csv(CHEBI_CSV, sep=',', low_memory=False).iloc[:,:2].drop_duplicates()\n",
    "chebi.columns = ['traitEfos','traitEfos_Name']\n",
    "chebi['traitEfos'] = chebi['traitEfos'].replace('.*/','', regex=True)\n",
    "\n",
    "traits = pd.concat([efo,hpo,mondo,ordo,chebi])\n",
    "\n",
    "opentargets_new = pd.merge(opentargets,traits,on='traitEfos')\n"
   ]
  },
  {
   "cell_type": "code",
   "execution_count": 45,
   "id": "34e3f5fb-4560-44e1-9746-5343d9cb0365",
   "metadata": {},
   "outputs": [
    {
     "data": {
      "text/plain": [
       "506638"
      ]
     },
     "execution_count": 45,
     "metadata": {},
     "output_type": "execute_result"
    }
   ],
   "source": [
    "len(opentargets['var_id'].drop_duplicates())"
   ]
  },
  {
   "cell_type": "code",
   "execution_count": 46,
   "id": "28e26b23-520a-4d10-8d90-a45c6e0757bc",
   "metadata": {},
   "outputs": [
    {
     "data": {
      "text/plain": [
       "506360"
      ]
     },
     "execution_count": 46,
     "metadata": {},
     "output_type": "execute_result"
    }
   ],
   "source": [
    "len(opentargets_new['var_id'].drop_duplicates())"
   ]
  },
  {
   "cell_type": "code",
   "execution_count": null,
   "id": "9219e85a-5aa5-4e87-8363-8c8558ec0e44",
   "metadata": {
    "tags": []
   },
   "outputs": [],
   "source": [
    "#opentargets['traitEfos'] = opentargets['traitEfos'].replace('[]',np.NaN)\n",
    "#opentargets = opentargets.dropna()\n",
    "\n",
    "\n",
    "\n",
    "\n"
   ]
  },
  {
   "cell_type": "code",
   "execution_count": 94,
   "id": "28ecc0cd-1c02-4017-bf09-6cd1fde71413",
   "metadata": {
    "tags": []
   },
   "outputs": [
    {
     "data": {
      "text/plain": [
       "traitEfos\n",
       "EFO_0004526    288\n",
       "EFO_0004980    259\n",
       "EFO_0004528    252\n",
       "EFO_0005091    246\n",
       "EFO_0004339    243\n",
       "              ... \n",
       "EFO_0003911      1\n",
       "EFO_1001228      1\n",
       "EFO_0003839      1\n",
       "EFO_1001870      1\n",
       "CHEBI_46195      1\n",
       "Length: 193, dtype: int64"
      ]
     },
     "execution_count": 94,
     "metadata": {},
     "output_type": "execute_result"
    }
   ],
   "source": [
    "opentargets_new[opentargets_new['pval']<=0.00000005][['traitEfos','var_id']].drop_duplicates().value_counts('traitEfos')\n"
   ]
  },
  {
   "cell_type": "code",
   "execution_count": 86,
   "id": "edee4dd5-2ab4-4eec-945f-1b1ae4298bfa",
   "metadata": {},
   "outputs": [
    {
     "data": {
      "text/plain": [
       "0            1_7341713_G_A\n",
       "2           1_21268169_C_T\n",
       "3           1_21268641_C_T\n",
       "4           1_21271643_C_T\n",
       "5           1_21276142_C_T\n",
       "                ...       \n",
       "378412    13_113799845_C_T\n",
       "384184     11_45544911_A_C\n",
       "384861     12_72075140_G_T\n",
       "386264     10_71479444_C_T\n",
       "386266    12_106133815_T_C\n",
       "Name: var_id, Length: 10405, dtype: object"
      ]
     },
     "execution_count": 86,
     "metadata": {},
     "output_type": "execute_result"
    }
   ],
   "source": [
    "opentargets_new['var_id'].drop_duplicates()"
   ]
  },
  {
   "cell_type": "code",
   "execution_count": 92,
   "id": "a15696a3-fbaf-4d7d-b10b-fd26cc67aaa3",
   "metadata": {
    "tags": []
   },
   "outputs": [
    {
     "data": {
      "text/plain": [
       "traitEfos\n",
       "EFO_0007010    5572\n",
       "EFO_0007937    4150\n",
       "EFO_0008111    3766\n",
       "EFO_0007874    1963\n",
       "EFO_0007814    1647\n",
       "               ... \n",
       "EFO_0010400       1\n",
       "EFO_0010536       1\n",
       "EFO_0009851       1\n",
       "EFO_0005058       1\n",
       "EFO_0010988       1\n",
       "Length: 2480, dtype: int64"
      ]
     },
     "execution_count": 92,
     "metadata": {},
     "output_type": "execute_result"
    }
   ],
   "source": [
    "opentargets_new[['traitEfos','var_id']].drop_duplicates().value_counts('traitEfos')"
   ]
  },
  {
   "cell_type": "code",
   "execution_count": 48,
   "id": "3e4c699b-cce6-4c6a-a2ab-78c2a969f3db",
   "metadata": {},
   "outputs": [],
   "source": [
    "opentargets_new = opentargets_new[['var_id','traitEfos','traitEfos_Name','traitReported','beta','pval']]\n",
    "                 "
   ]
  },
  {
   "cell_type": "code",
   "execution_count": 50,
   "id": "1e0e6ab0-c5de-401a-81a5-4a633959128a",
   "metadata": {},
   "outputs": [
    {
     "data": {
      "text/html": [
       "<div>\n",
       "<style scoped>\n",
       "    .dataframe tbody tr th:only-of-type {\n",
       "        vertical-align: middle;\n",
       "    }\n",
       "\n",
       "    .dataframe tbody tr th {\n",
       "        vertical-align: top;\n",
       "    }\n",
       "\n",
       "    .dataframe thead th {\n",
       "        text-align: right;\n",
       "    }\n",
       "</style>\n",
       "<table border=\"1\" class=\"dataframe\">\n",
       "  <thead>\n",
       "    <tr style=\"text-align: right;\">\n",
       "      <th></th>\n",
       "      <th>studyId</th>\n",
       "      <th>eaf</th>\n",
       "      <th>beta</th>\n",
       "      <th>se</th>\n",
       "      <th>nTotal</th>\n",
       "      <th>nCases</th>\n",
       "      <th>oddsRatio</th>\n",
       "      <th>pval</th>\n",
       "      <th>traitCategory</th>\n",
       "      <th>traitEfos</th>\n",
       "      <th>traitReported</th>\n",
       "      <th>numAssocLoci</th>\n",
       "      <th>var_id</th>\n",
       "    </tr>\n",
       "  </thead>\n",
       "  <tbody>\n",
       "    <tr>\n",
       "      <th>0</th>\n",
       "      <td>GCST90010242</td>\n",
       "      <td>0.048000</td>\n",
       "      <td>-0.265458</td>\n",
       "      <td>0.094162</td>\n",
       "      <td>1323</td>\n",
       "      <td>NaN</td>\n",
       "      <td>NaN</td>\n",
       "      <td>0.004986</td>\n",
       "      <td>measurement</td>\n",
       "      <td>EFO_0007937</td>\n",
       "      <td>Neurogenic locus notch homolog protein 3 levels</td>\n",
       "      <td>1.0</td>\n",
       "      <td>1_788362_T_C</td>\n",
       "    </tr>\n",
       "    <tr>\n",
       "      <th>3</th>\n",
       "      <td>FINNGEN_R5_ST19_INJURY_MUSCLE_TENDON_WRIST_HAN...</td>\n",
       "      <td>0.004193</td>\n",
       "      <td>0.773300</td>\n",
       "      <td>0.266900</td>\n",
       "      <td>201216</td>\n",
       "      <td>2180.0</td>\n",
       "      <td>2.166905</td>\n",
       "      <td>0.003763</td>\n",
       "      <td>injury, poisoning or other complication</td>\n",
       "      <td>EFO_0000546</td>\n",
       "      <td>Injury of muscle and tendon at wrist and hand ...</td>\n",
       "      <td>0.0</td>\n",
       "      <td>1_788906_G_A</td>\n",
       "    </tr>\n",
       "    <tr>\n",
       "      <th>4</th>\n",
       "      <td>FINNGEN_R5_M13_ARTHROSIS_KNEE</td>\n",
       "      <td>0.004178</td>\n",
       "      <td>0.303800</td>\n",
       "      <td>0.100400</td>\n",
       "      <td>170017</td>\n",
       "      <td>22796.0</td>\n",
       "      <td>1.354998</td>\n",
       "      <td>0.002490</td>\n",
       "      <td>musculoskeletal or connective tissue disease</td>\n",
       "      <td>EFO_0004616</td>\n",
       "      <td>Gonarthrosis</td>\n",
       "      <td>13.0</td>\n",
       "      <td>1_788906_G_A</td>\n",
       "    </tr>\n",
       "    <tr>\n",
       "      <th>5</th>\n",
       "      <td>FINNGEN_R5_M13_ARTHROSIS</td>\n",
       "      <td>0.004195</td>\n",
       "      <td>0.235100</td>\n",
       "      <td>0.082700</td>\n",
       "      <td>184454</td>\n",
       "      <td>37233.0</td>\n",
       "      <td>1.265035</td>\n",
       "      <td>0.004471</td>\n",
       "      <td>Uncategorised</td>\n",
       "      <td>EFO_0002506</td>\n",
       "      <td>Arthrosis</td>\n",
       "      <td>19.0</td>\n",
       "      <td>1_788906_G_A</td>\n",
       "    </tr>\n",
       "    <tr>\n",
       "      <th>6</th>\n",
       "      <td>FINNGEN_R5_M13_TROCHANTERICBURSITIS</td>\n",
       "      <td>0.004214</td>\n",
       "      <td>1.080800</td>\n",
       "      <td>0.328100</td>\n",
       "      <td>169245</td>\n",
       "      <td>1604.0</td>\n",
       "      <td>2.947036</td>\n",
       "      <td>0.000988</td>\n",
       "      <td>musculoskeletal or connective tissue disease</td>\n",
       "      <td>MONDO_0002471</td>\n",
       "      <td>Trochanteric bursitis</td>\n",
       "      <td>0.0</td>\n",
       "      <td>1_788906_G_A</td>\n",
       "    </tr>\n",
       "    <tr>\n",
       "      <th>...</th>\n",
       "      <td>...</td>\n",
       "      <td>...</td>\n",
       "      <td>...</td>\n",
       "      <td>...</td>\n",
       "      <td>...</td>\n",
       "      <td>...</td>\n",
       "      <td>...</td>\n",
       "      <td>...</td>\n",
       "      <td>...</td>\n",
       "      <td>...</td>\n",
       "      <td>...</td>\n",
       "      <td>...</td>\n",
       "      <td>...</td>\n",
       "    </tr>\n",
       "    <tr>\n",
       "      <th>17160157</th>\n",
       "      <td>GCST007090</td>\n",
       "      <td>0.004400</td>\n",
       "      <td>0.238500</td>\n",
       "      <td>0.083000</td>\n",
       "      <td>403124</td>\n",
       "      <td>24955.0</td>\n",
       "      <td>1.269344</td>\n",
       "      <td>0.004077</td>\n",
       "      <td>musculoskeletal or connective tissue disease</td>\n",
       "      <td>EFO_0004616</td>\n",
       "      <td>Knee osteoarthritis</td>\n",
       "      <td>12.0</td>\n",
       "      <td>9_138126544_T_G</td>\n",
       "    </tr>\n",
       "    <tr>\n",
       "      <th>17160158</th>\n",
       "      <td>SAIGE_495</td>\n",
       "      <td>0.000233</td>\n",
       "      <td>2.060000</td>\n",
       "      <td>0.686013</td>\n",
       "      <td>401837</td>\n",
       "      <td>26332.0</td>\n",
       "      <td>7.845970</td>\n",
       "      <td>0.002610</td>\n",
       "      <td>Uncategorised</td>\n",
       "      <td>EFO_0000270</td>\n",
       "      <td>Asthma</td>\n",
       "      <td>41.0</td>\n",
       "      <td>9_138131817_G_A</td>\n",
       "    </tr>\n",
       "    <tr>\n",
       "      <th>17160159</th>\n",
       "      <td>GCST90002340</td>\n",
       "      <td>0.003196</td>\n",
       "      <td>0.955600</td>\n",
       "      <td>0.333510</td>\n",
       "      <td>521594</td>\n",
       "      <td>NaN</td>\n",
       "      <td>NaN</td>\n",
       "      <td>0.004179</td>\n",
       "      <td>measurement</td>\n",
       "      <td>EFO_0005091</td>\n",
       "      <td>Monocyte count</td>\n",
       "      <td>1036.0</td>\n",
       "      <td>9_138131817_G_A</td>\n",
       "    </tr>\n",
       "    <tr>\n",
       "      <th>17160160</th>\n",
       "      <td>GCST90002310</td>\n",
       "      <td>0.000663</td>\n",
       "      <td>0.539475</td>\n",
       "      <td>0.181204</td>\n",
       "      <td>563946</td>\n",
       "      <td>NaN</td>\n",
       "      <td>NaN</td>\n",
       "      <td>0.002920</td>\n",
       "      <td>measurement</td>\n",
       "      <td>EFO_0004509</td>\n",
       "      <td>Hemoglobin concentration</td>\n",
       "      <td>893.0</td>\n",
       "      <td>9_138148887_G_T</td>\n",
       "    </tr>\n",
       "    <tr>\n",
       "      <th>17160161</th>\n",
       "      <td>GCST90002310</td>\n",
       "      <td>0.000774</td>\n",
       "      <td>0.477236</td>\n",
       "      <td>0.168611</td>\n",
       "      <td>563946</td>\n",
       "      <td>NaN</td>\n",
       "      <td>NaN</td>\n",
       "      <td>0.004663</td>\n",
       "      <td>measurement</td>\n",
       "      <td>EFO_0004509</td>\n",
       "      <td>Hemoglobin concentration</td>\n",
       "      <td>893.0</td>\n",
       "      <td>9_138150639_G_A</td>\n",
       "    </tr>\n",
       "  </tbody>\n",
       "</table>\n",
       "<p>15907572 rows × 13 columns</p>\n",
       "</div>"
      ],
      "text/plain": [
       "                                                    studyId       eaf  \\\n",
       "0                                              GCST90010242  0.048000   \n",
       "3         FINNGEN_R5_ST19_INJURY_MUSCLE_TENDON_WRIST_HAN...  0.004193   \n",
       "4                             FINNGEN_R5_M13_ARTHROSIS_KNEE  0.004178   \n",
       "5                                  FINNGEN_R5_M13_ARTHROSIS  0.004195   \n",
       "6                       FINNGEN_R5_M13_TROCHANTERICBURSITIS  0.004214   \n",
       "...                                                     ...       ...   \n",
       "17160157                                         GCST007090  0.004400   \n",
       "17160158                                          SAIGE_495  0.000233   \n",
       "17160159                                       GCST90002340  0.003196   \n",
       "17160160                                       GCST90002310  0.000663   \n",
       "17160161                                       GCST90002310  0.000774   \n",
       "\n",
       "              beta        se  nTotal   nCases  oddsRatio      pval  \\\n",
       "0        -0.265458  0.094162    1323      NaN        NaN  0.004986   \n",
       "3         0.773300  0.266900  201216   2180.0   2.166905  0.003763   \n",
       "4         0.303800  0.100400  170017  22796.0   1.354998  0.002490   \n",
       "5         0.235100  0.082700  184454  37233.0   1.265035  0.004471   \n",
       "6         1.080800  0.328100  169245   1604.0   2.947036  0.000988   \n",
       "...            ...       ...     ...      ...        ...       ...   \n",
       "17160157  0.238500  0.083000  403124  24955.0   1.269344  0.004077   \n",
       "17160158  2.060000  0.686013  401837  26332.0   7.845970  0.002610   \n",
       "17160159  0.955600  0.333510  521594      NaN        NaN  0.004179   \n",
       "17160160  0.539475  0.181204  563946      NaN        NaN  0.002920   \n",
       "17160161  0.477236  0.168611  563946      NaN        NaN  0.004663   \n",
       "\n",
       "                                         traitCategory      traitEfos  \\\n",
       "0                                          measurement    EFO_0007937   \n",
       "3              injury, poisoning or other complication    EFO_0000546   \n",
       "4         musculoskeletal or connective tissue disease    EFO_0004616   \n",
       "5                                        Uncategorised    EFO_0002506   \n",
       "6         musculoskeletal or connective tissue disease  MONDO_0002471   \n",
       "...                                                ...            ...   \n",
       "17160157  musculoskeletal or connective tissue disease    EFO_0004616   \n",
       "17160158                                 Uncategorised    EFO_0000270   \n",
       "17160159                                   measurement    EFO_0005091   \n",
       "17160160                                   measurement    EFO_0004509   \n",
       "17160161                                   measurement    EFO_0004509   \n",
       "\n",
       "                                              traitReported  numAssocLoci  \\\n",
       "0           Neurogenic locus notch homolog protein 3 levels           1.0   \n",
       "3         Injury of muscle and tendon at wrist and hand ...           0.0   \n",
       "4                                              Gonarthrosis          13.0   \n",
       "5                                                 Arthrosis          19.0   \n",
       "6                                     Trochanteric bursitis           0.0   \n",
       "...                                                     ...           ...   \n",
       "17160157                                Knee osteoarthritis          12.0   \n",
       "17160158                                             Asthma          41.0   \n",
       "17160159                                     Monocyte count        1036.0   \n",
       "17160160                           Hemoglobin concentration         893.0   \n",
       "17160161                           Hemoglobin concentration         893.0   \n",
       "\n",
       "                   var_id  \n",
       "0            1_788362_T_C  \n",
       "3            1_788906_G_A  \n",
       "4            1_788906_G_A  \n",
       "5            1_788906_G_A  \n",
       "6            1_788906_G_A  \n",
       "...                   ...  \n",
       "17160157  9_138126544_T_G  \n",
       "17160158  9_138131817_G_A  \n",
       "17160159  9_138131817_G_A  \n",
       "17160160  9_138148887_G_T  \n",
       "17160161  9_138150639_G_A  \n",
       "\n",
       "[15907572 rows x 13 columns]"
      ]
     },
     "execution_count": 50,
     "metadata": {},
     "output_type": "execute_result"
    }
   ],
   "source": [
    "opentargets"
   ]
  },
  {
   "cell_type": "code",
   "execution_count": null,
   "id": "810e10df-ea32-4a29-bd4e-1d7cfba825a9",
   "metadata": {},
   "outputs": [],
   "source": []
  },
  {
   "cell_type": "code",
   "execution_count": 49,
   "id": "f9532f8c-860d-43f3-88d5-5557bceb7094",
   "metadata": {},
   "outputs": [],
   "source": [
    "# SAVE\n",
    "opentargets_new.to_csv('../bin/raw/opentargets_introgressed_associations.tab', sep='\\t', index=False)"
   ]
  },
  {
   "cell_type": "code",
   "execution_count": null,
   "id": "27370ad7-0289-4a1a-add4-17cf25e99b6d",
   "metadata": {
    "tags": []
   },
   "outputs": [],
   "source": []
  },
  {
   "cell_type": "code",
   "execution_count": null,
   "id": "4d02734b-4640-48a9-9dea-0b97d3135b7b",
   "metadata": {},
   "outputs": [],
   "source": []
  },
  {
   "cell_type": "code",
   "execution_count": null,
   "id": "463ad9e2-dc2f-47f2-8005-f155fa1296fa",
   "metadata": {},
   "outputs": [],
   "source": []
  },
  {
   "cell_type": "code",
   "execution_count": null,
   "id": "a3d5c79b-96ae-4702-bf8c-0f8249124f06",
   "metadata": {},
   "outputs": [],
   "source": []
  }
 ],
 "metadata": {
  "kernelspec": {
   "display_name": "Python (ksva)",
   "language": "python",
   "name": "ksva"
  },
  "language_info": {
   "codemirror_mode": {
    "name": "ipython",
    "version": 3
   },
   "file_extension": ".py",
   "mimetype": "text/x-python",
   "name": "python",
   "nbconvert_exporter": "python",
   "pygments_lexer": "ipython3",
   "version": "3.6.11"
  }
 },
 "nbformat": 4,
 "nbformat_minor": 5
}

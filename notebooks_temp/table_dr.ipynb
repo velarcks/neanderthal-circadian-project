{
 "cells": [
  {
   "cell_type": "code",
   "execution_count": null,
   "id": "95bd7f26-84fe-4c4f-a9e2-9c1eb3c17f00",
   "metadata": {},
   "outputs": [],
   "source": [
    "# CREATE TABLE CONTAINING LIST OF DR GENES IN EACH OF THE ARCHAIC HOMININS\n",
    "# IMPORTS LIST OF ALL CIRCADIAN GENES WITH WEBSCRAPED DESCRIPTIONS\n",
    "# FROM TABLE_1.IPYNB"
   ]
  },
  {
   "cell_type": "code",
   "execution_count": 1,
   "id": "e24da617-4847-44c9-a815-e2cda19c697f",
   "metadata": {},
   "outputs": [],
   "source": [
    "import pandas as pd\n",
    "from functools import reduce\n"
   ]
  },
  {
   "cell_type": "code",
   "execution_count": 3,
   "id": "5721014b-1ac0-41e4-800e-ead81c488341",
   "metadata": {},
   "outputs": [],
   "source": [
    "def load_archaics(file,ind):\n",
    "    df = pd.read_csv(file, sep='\\t')\n",
    "    df[ind] = 1\n",
    "    return df"
   ]
  },
  {
   "cell_type": "code",
   "execution_count": 4,
   "id": "8ea90afc-5fa9-4ca0-9395-75296da31204",
   "metadata": {},
   "outputs": [],
   "source": [
    "# LOAD DATA\n",
    "circadian_genes = pd.read_excel('data/table_1.xlsx', engine='openpyxl').iloc[:,:3]\n",
    "altai_0 = load_archaics('../results/predixcan_dr_circadian_altai.tab', 'Altai')\n",
    "vindija_0 = load_archaics('../results/predixcan_dr_circadian_vindija.tab', 'Vindija')\n",
    "denisova_0 = load_archaics('../results/predixcan_dr_circadian_denisova.tab', 'Denisova')\n",
    "\n",
    "# MERGE ARCHAIC DFS\n",
    "DFS = [altai_0, vindija_0, denisova_0]\n",
    "COLS = ['GeneID','GeneName','GTEx_Tissue']\n",
    "archaics = reduce(lambda left,right: pd.merge(left,right,on=COLS,how='outer'), DFS)\n",
    "\n",
    "# Fill NaN values with 0\n",
    "archaics.iloc[:,-3:] = archaics.iloc[:,-3:].fillna(0).astype(int)\n",
    "\n",
    "# MERGE CIRCADIAN GENES AND ARCHAICS DFS\n",
    "dr_genes = pd.merge(circadian_genes,archaics,on=['GeneID','GeneName'])\n",
    "\n",
    "# SET MULTI-INDEX\n",
    "dr_genes = dr_genes.set_index(['GeneID', 'GeneName', 'Description', 'GTEx_Tissue'])\n",
    "\n"
   ]
  },
  {
   "cell_type": "code",
   "execution_count": 6,
   "id": "98674dd6-e4f7-4c7d-a396-b26869d43804",
   "metadata": {},
   "outputs": [],
   "source": [
    "# SAVE TO EXCEL\n",
    "dr_genes.to_excel('data/table_dr.xlsx', index=True)"
   ]
  },
  {
   "cell_type": "code",
   "execution_count": null,
   "id": "a19d840a-bc57-4f7d-bc78-c1edec247a8c",
   "metadata": {},
   "outputs": [],
   "source": []
  },
  {
   "cell_type": "code",
   "execution_count": 19,
   "id": "66971379-acb8-4cf5-8d1b-3c8ab0950c83",
   "metadata": {},
   "outputs": [],
   "source": [
    "# INCLUDE 16 DR GENES ONLY\n",
    "fig4 = dr_genes[dr_genes.sum(axis=1)==3]"
   ]
  },
  {
   "cell_type": "code",
   "execution_count": 20,
   "id": "b793bac3-68f1-4a33-9ec8-bee6e714f6f5",
   "metadata": {},
   "outputs": [],
   "source": [
    "# SAVE TO EXCEL\n",
    "fig4.to_excel('data/fig4.xlsx', index=True)"
   ]
  },
  {
   "cell_type": "code",
   "execution_count": null,
   "id": "c11a5bbf-594b-4231-a094-d662f1410dac",
   "metadata": {},
   "outputs": [],
   "source": []
  }
 ],
 "metadata": {
  "kernelspec": {
   "display_name": "Python (ksva)",
   "language": "python",
   "name": "ksva"
  },
  "language_info": {
   "codemirror_mode": {
    "name": "ipython",
    "version": 3
   },
   "file_extension": ".py",
   "mimetype": "text/x-python",
   "name": "python",
   "nbconvert_exporter": "python",
   "pygments_lexer": "ipython3",
   "version": "3.6.11"
  }
 },
 "nbformat": 4,
 "nbformat_minor": 5
}
